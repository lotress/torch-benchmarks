{
 "cells": [
  {
   "cell_type": "code",
   "execution_count": 1,
   "metadata": {
    "colab": {
     "base_uri": "https://localhost:8080/",
     "height": 34
    },
    "colab_type": "code",
    "executionInfo": {
     "elapsed": 1084,
     "status": "ok",
     "timestamp": 1541589271767,
     "user": {
      "displayName": "Meiying Chen",
      "photoUrl": "",
      "userId": "13083680676483437826"
     },
     "user_tz": -480
    },
    "id": "UCxussogw08a",
    "outputId": "4602190f-fbfd-4bd2-db21-7c058d045d6f"
   },
   "outputs": [
    {
     "data": {
      "text/plain": [
       "8"
      ]
     },
     "execution_count": 1,
     "metadata": {},
     "output_type": "execute_result"
    }
   ],
   "source": [
    "import time\n",
    "import torch\n",
    "torch.cuda.device_count()"
   ]
  },
  {
   "cell_type": "code",
   "execution_count": 2,
   "metadata": {},
   "outputs": [],
   "source": [
    "batchSize = 64\n",
    "n = 2048\n",
    "times = 10\n",
    "flops = 1e-12 * times * 2 * batchSize*n*n*n"
   ]
  },
  {
   "cell_type": "code",
   "execution_count": 3,
   "metadata": {
    "colab": {
     "base_uri": "https://localhost:8080/",
     "height": 105
    },
    "colab_type": "code",
    "executionInfo": {
     "elapsed": 10339,
     "status": "ok",
     "timestamp": 1541589283545,
     "user": {
      "displayName": "Meiying Chen",
      "photoUrl": "",
      "userId": "13083680676483437826"
     },
     "user_tz": -480
    },
    "id": "yPkuYX2wxNd9",
    "outputId": "ecf0b709-ed0e-45fa-d13d-2bf0b993260d"
   },
   "outputs": [
    {
     "name": "stdout",
     "output_type": "stream",
     "text": [
      "['GeForce RTX 2080 Ti', 'GeForce RTX 2080 Ti', 'GeForce RTX 2080 Ti', 'GeForce RTX 2080 Ti', 'GeForce RTX 2080 Ti', 'GeForce RTX 2080 Ti', 'GeForce RTX 2080 Ti', 'GeForce RTX 2080 Ti']\n"
     ]
    }
   ],
   "source": [
    "cpu = torch.device('cpu')\n",
    "devs = [\n",
    "  #(torch.float32, cpu),\n",
    "  #(torch.float64, cpu)\n",
    "]\n",
    "if torch.cuda.is_available():\n",
    "  for i in range(torch.cuda.device_count()):\n",
    "    cuda = torch.device('cuda:{}'.format(i))\n",
    "    devs.extend([\n",
    "      (torch.float16, cuda),\n",
    "      (torch.float32, cuda),\n",
    "      (torch.float64, cuda)\n",
    "    ])\n",
    "print([torch.cuda.get_device_name(i) for i in range(torch.cuda.device_count())])\n",
    "warmup = [torch.rand((n, n), dtype=dtype, device=device, requires_grad=True) for dtype, device in devs]\n",
    "for t in warmup:\n",
    "    t.cpu()\n",
    "    del t"
   ]
  },
  {
   "cell_type": "code",
   "execution_count": 4,
   "metadata": {
    "colab": {
     "base_uri": "https://localhost:8080/",
     "height": 105
    },
    "colab_type": "code",
    "executionInfo": {
     "elapsed": 10339,
     "status": "ok",
     "timestamp": 1541589283545,
     "user": {
      "displayName": "Meiying Chen",
      "photoUrl": "",
      "userId": "13083680676483437826"
     },
     "user_tz": -480
    },
    "id": "yPkuYX2wxNd9",
    "outputId": "ecf0b709-ed0e-45fa-d13d-2bf0b993260d"
   },
   "outputs": [
    {
     "name": "stdout",
     "output_type": "stream",
     "text": [
      "Test on device cuda:0 with dtype torch.float16\n",
      "Time passed: 0.73451s, TFlops: 14.97\n",
      "Test on device cuda:0 with dtype torch.float32\n",
      "Time passed: 0.77424s, TFlops: 14.20\n",
      "Test on device cuda:0 with dtype torch.float64\n",
      "Time passed: 21.46311s, TFlops: 0.51\n",
      "Test on device cuda:1 with dtype torch.float16\n",
      "Time passed: 0.62822s, TFlops: 17.50\n",
      "Test on device cuda:1 with dtype torch.float32\n",
      "Time passed: 0.78910s, TFlops: 13.93\n",
      "Test on device cuda:1 with dtype torch.float64\n",
      "Time passed: 21.62666s, TFlops: 0.51\n",
      "Test on device cuda:2 with dtype torch.float16\n",
      "Time passed: 0.59111s, TFlops: 18.60\n",
      "Test on device cuda:2 with dtype torch.float32\n",
      "Time passed: 0.77038s, TFlops: 14.27\n",
      "Test on device cuda:2 with dtype torch.float64\n",
      "Time passed: 21.59772s, TFlops: 0.51\n",
      "Test on device cuda:3 with dtype torch.float16\n",
      "Time passed: 0.65787s, TFlops: 16.71\n",
      "Test on device cuda:3 with dtype torch.float32\n",
      "Time passed: 0.77997s, TFlops: 14.10\n",
      "Test on device cuda:3 with dtype torch.float64\n",
      "Time passed: 21.51671s, TFlops: 0.51\n",
      "Test on device cuda:4 with dtype torch.float16\n",
      "Time passed: 0.60781s, TFlops: 18.09\n",
      "Test on device cuda:4 with dtype torch.float32\n",
      "Time passed: 0.77133s, TFlops: 14.25\n",
      "Test on device cuda:4 with dtype torch.float64\n",
      "Time passed: 21.58061s, TFlops: 0.51\n",
      "Test on device cuda:5 with dtype torch.float16\n",
      "Time passed: 0.64320s, TFlops: 17.09\n",
      "Test on device cuda:5 with dtype torch.float32\n",
      "Time passed: 0.77504s, TFlops: 14.19\n",
      "Test on device cuda:5 with dtype torch.float64\n",
      "Time passed: 21.34726s, TFlops: 0.52\n",
      "Test on device cuda:6 with dtype torch.float16\n",
      "Time passed: 0.62245s, TFlops: 17.66\n",
      "Test on device cuda:6 with dtype torch.float32\n",
      "Time passed: 0.77733s, TFlops: 14.14\n",
      "Test on device cuda:6 with dtype torch.float64\n",
      "Time passed: 21.59599s, TFlops: 0.51\n",
      "Test on device cuda:7 with dtype torch.float16\n",
      "Time passed: 0.64812s, TFlops: 16.96\n",
      "Test on device cuda:7 with dtype torch.float32\n",
      "Time passed: 0.77020s, TFlops: 14.28\n",
      "Test on device cuda:7 with dtype torch.float64\n",
      "Time passed: 21.18077s, TFlops: 0.52\n"
     ]
    }
   ],
   "source": [
    "for dtype, device in devs:\n",
    "  try:\n",
    "    torch.cuda.empty_cache()\n",
    "    t = torch.rand((batchSize, n, n), dtype=dtype, device=device, requires_grad=True) * 1e-2\n",
    "    eye = torch.eye(n, dtype=dtype, device=device).expand(batchSize, -1, -1)\n",
    "    loss = torch.tensor(0, dtype=dtype, device=device)\n",
    "    print('Test on device {} with dtype {}'.format(device, dtype))\n",
    "    start = time.perf_counter()\n",
    "    for i in range(times):\n",
    "        diff = torch.bmm(t, eye).sum(dim=2).sum(dim=1)\n",
    "        loss += (diff * diff).mean()\n",
    "        del diff\n",
    "    loss.cpu()\n",
    "    elapsed = time.perf_counter() - start\n",
    "    print('Time passed: {:.5f}s, TFlops: {:.2f}'.format(elapsed, flops / elapsed))\n",
    "    del t, eye, loss\n",
    "  except Exception as e:\n",
    "    print(e)"
   ]
  }
 ],
 "metadata": {
  "accelerator": "TPU",
  "colab": {
   "collapsed_sections": [],
   "name": "benchmark.ipynb",
   "provenance": [],
   "version": "0.3.2"
  },
  "kernelspec": {
   "display_name": "Python 3.8",
   "language": "python",
   "name": "py3.8"
  },
  "language_info": {
   "codemirror_mode": {
    "name": "ipython",
    "version": 3
   },
   "file_extension": ".py",
   "mimetype": "text/x-python",
   "name": "python",
   "nbconvert_exporter": "python",
   "pygments_lexer": "ipython3",
   "version": "3.8.3"
  }
 },
 "nbformat": 4,
 "nbformat_minor": 1
}
