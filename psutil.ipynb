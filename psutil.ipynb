{
 "cells": [
  {
   "cell_type": "code",
   "execution_count": 1,
   "metadata": {},
   "outputs": [],
   "source": [
    "import os\n",
    "import psutil"
   ]
  },
  {
   "cell_type": "code",
   "execution_count": 2,
   "metadata": {},
   "outputs": [
    {
     "data": {
      "text/plain": [
       "1589550838.0"
      ]
     },
     "execution_count": 2,
     "metadata": {},
     "output_type": "execute_result"
    }
   ],
   "source": [
    "psutil.boot_time()"
   ]
  },
  {
   "cell_type": "code",
   "execution_count": 3,
   "metadata": {},
   "outputs": [
    {
     "data": {
      "text/plain": [
       "20"
      ]
     },
     "execution_count": 3,
     "metadata": {},
     "output_type": "execute_result"
    }
   ],
   "source": [
    "psutil.cpu_count(logical=False)"
   ]
  },
  {
   "cell_type": "code",
   "execution_count": 4,
   "metadata": {},
   "outputs": [
    {
     "data": {
      "text/plain": [
       "[scpufreq(current=3198.985, min=1000.0, max=3900.0),\n",
       " scpufreq(current=3206.845, min=1000.0, max=3900.0),\n",
       " scpufreq(current=3209.852, min=1000.0, max=3900.0),\n",
       " scpufreq(current=3211.763, min=1000.0, max=3900.0),\n",
       " scpufreq(current=3199.873, min=1000.0, max=3900.0),\n",
       " scpufreq(current=3200.074, min=1000.0, max=3900.0),\n",
       " scpufreq(current=3198.99, min=1000.0, max=3900.0),\n",
       " scpufreq(current=3212.96, min=1000.0, max=3900.0),\n",
       " scpufreq(current=3209.296, min=1000.0, max=3900.0),\n",
       " scpufreq(current=3208.68, min=1000.0, max=3900.0),\n",
       " scpufreq(current=3211.015, min=1000.0, max=3900.0),\n",
       " scpufreq(current=3208.439, min=1000.0, max=3900.0),\n",
       " scpufreq(current=3208.722, min=1000.0, max=3900.0),\n",
       " scpufreq(current=3213.352, min=1000.0, max=3900.0),\n",
       " scpufreq(current=3209.894, min=1000.0, max=3900.0),\n",
       " scpufreq(current=3207.805, min=1000.0, max=3900.0),\n",
       " scpufreq(current=3202.725, min=1000.0, max=3900.0),\n",
       " scpufreq(current=3210.111, min=1000.0, max=3900.0),\n",
       " scpufreq(current=3201.563, min=1000.0, max=3900.0),\n",
       " scpufreq(current=3213.363, min=1000.0, max=3900.0),\n",
       " scpufreq(current=3259.422, min=1000.0, max=3900.0),\n",
       " scpufreq(current=3205.093, min=1000.0, max=3900.0),\n",
       " scpufreq(current=3206.073, min=1000.0, max=3900.0),\n",
       " scpufreq(current=3206.435, min=1000.0, max=3900.0),\n",
       " scpufreq(current=3198.536, min=1000.0, max=3900.0),\n",
       " scpufreq(current=3202.125, min=1000.0, max=3900.0),\n",
       " scpufreq(current=3205.614, min=1000.0, max=3900.0),\n",
       " scpufreq(current=3197.898, min=1000.0, max=3900.0),\n",
       " scpufreq(current=3199.617, min=1000.0, max=3900.0),\n",
       " scpufreq(current=3200.475, min=1000.0, max=3900.0),\n",
       " scpufreq(current=3206.058, min=1000.0, max=3900.0),\n",
       " scpufreq(current=3205.727, min=1000.0, max=3900.0),\n",
       " scpufreq(current=3202.008, min=1000.0, max=3900.0),\n",
       " scpufreq(current=3202.751, min=1000.0, max=3900.0),\n",
       " scpufreq(current=3205.398, min=1000.0, max=3900.0),\n",
       " scpufreq(current=3207.72, min=1000.0, max=3900.0),\n",
       " scpufreq(current=3200.384, min=1000.0, max=3900.0),\n",
       " scpufreq(current=3207.403, min=1000.0, max=3900.0),\n",
       " scpufreq(current=3201.426, min=1000.0, max=3900.0),\n",
       " scpufreq(current=3206.601, min=1000.0, max=3900.0),\n",
       " scpufreq(current=3199.59, min=1000.0, max=3900.0),\n",
       " scpufreq(current=3213.001, min=1000.0, max=3900.0),\n",
       " scpufreq(current=3199.998, min=1000.0, max=3900.0),\n",
       " scpufreq(current=3212.694, min=1000.0, max=3900.0),\n",
       " scpufreq(current=3208.62, min=1000.0, max=3900.0),\n",
       " scpufreq(current=3212.062, min=1000.0, max=3900.0),\n",
       " scpufreq(current=3199.821, min=1000.0, max=3900.0),\n",
       " scpufreq(current=3207.123, min=1000.0, max=3900.0),\n",
       " scpufreq(current=3208.781, min=1000.0, max=3900.0),\n",
       " scpufreq(current=3209.886, min=1000.0, max=3900.0),\n",
       " scpufreq(current=3207.734, min=1000.0, max=3900.0),\n",
       " scpufreq(current=3212.674, min=1000.0, max=3900.0),\n",
       " scpufreq(current=3213.177, min=1000.0, max=3900.0),\n",
       " scpufreq(current=3204.933, min=1000.0, max=3900.0),\n",
       " scpufreq(current=3213.939, min=1000.0, max=3900.0),\n",
       " scpufreq(current=3211.683, min=1000.0, max=3900.0),\n",
       " scpufreq(current=3200.244, min=1000.0, max=3900.0),\n",
       " scpufreq(current=3199.226, min=1000.0, max=3900.0),\n",
       " scpufreq(current=3207.519, min=1000.0, max=3900.0),\n",
       " scpufreq(current=3208.364, min=1000.0, max=3900.0),\n",
       " scpufreq(current=3199.385, min=1000.0, max=3900.0),\n",
       " scpufreq(current=3200.873, min=1000.0, max=3900.0),\n",
       " scpufreq(current=3205.856, min=1000.0, max=3900.0),\n",
       " scpufreq(current=3207.444, min=1000.0, max=3900.0),\n",
       " scpufreq(current=3204.5, min=1000.0, max=3900.0),\n",
       " scpufreq(current=3206.478, min=1000.0, max=3900.0),\n",
       " scpufreq(current=3198.355, min=1000.0, max=3900.0),\n",
       " scpufreq(current=3205.408, min=1000.0, max=3900.0),\n",
       " scpufreq(current=3205.322, min=1000.0, max=3900.0),\n",
       " scpufreq(current=3200.221, min=1000.0, max=3900.0),\n",
       " scpufreq(current=3210.625, min=1000.0, max=3900.0),\n",
       " scpufreq(current=3206.278, min=1000.0, max=3900.0),\n",
       " scpufreq(current=3208.377, min=1000.0, max=3900.0),\n",
       " scpufreq(current=3205.866, min=1000.0, max=3900.0),\n",
       " scpufreq(current=3208.092, min=1000.0, max=3900.0),\n",
       " scpufreq(current=3205.915, min=1000.0, max=3900.0),\n",
       " scpufreq(current=3207.466, min=1000.0, max=3900.0),\n",
       " scpufreq(current=3208.393, min=1000.0, max=3900.0),\n",
       " scpufreq(current=3206.79, min=1000.0, max=3900.0),\n",
       " scpufreq(current=3205.687, min=1000.0, max=3900.0)]"
      ]
     },
     "execution_count": 4,
     "metadata": {},
     "output_type": "execute_result"
    }
   ],
   "source": [
    "psutil.cpu_freq(percpu=True)"
   ]
  },
  {
   "cell_type": "code",
   "execution_count": 5,
   "metadata": {},
   "outputs": [
    {
     "data": {
      "text/plain": [
       "[0.1,\n",
       " 0.0,\n",
       " 0.0,\n",
       " 0.0,\n",
       " 0.0,\n",
       " -0.0,\n",
       " 0.0,\n",
       " 0.0,\n",
       " 0.0,\n",
       " 0.0,\n",
       " 0.0,\n",
       " 0.0,\n",
       " 0.0,\n",
       " 0.0,\n",
       " 0.1,\n",
       " 0.0,\n",
       " 0.0,\n",
       " 0.0,\n",
       " 0.1,\n",
       " 0.0,\n",
       " 0.0,\n",
       " 0.0,\n",
       " 0.4,\n",
       " 0.0,\n",
       " 0.0,\n",
       " 0.0,\n",
       " 0.0,\n",
       " 0.0,\n",
       " 0.0,\n",
       " 0.0,\n",
       " 0.0,\n",
       " 0.1,\n",
       " 0.0,\n",
       " 0.0,\n",
       " 0.0,\n",
       " 0.0,\n",
       " 0.0,\n",
       " 0.0,\n",
       " 0.0,\n",
       " 0.0,\n",
       " 0.0,\n",
       " 0.0,\n",
       " 0.0,\n",
       " 0.0,\n",
       " 0.0,\n",
       " 0.0,\n",
       " 0.0,\n",
       " 0.0,\n",
       " 0.0,\n",
       " 0.0,\n",
       " 0.0,\n",
       " 0.0,\n",
       " 5.8,\n",
       " 0.1,\n",
       " 0.0,\n",
       " 0.0,\n",
       " 0.0,\n",
       " 0.0,\n",
       " 0.0,\n",
       " 0.0,\n",
       " 0.0,\n",
       " 0.0,\n",
       " 0.0,\n",
       " 0.0,\n",
       " 0.0,\n",
       " 0.0,\n",
       " 0.0,\n",
       " 0.0,\n",
       " 0.0,\n",
       " 0.0,\n",
       " 0.0,\n",
       " 0.0,\n",
       " 0.0,\n",
       " 0.0,\n",
       " 0.0,\n",
       " 0.0,\n",
       " 0.0,\n",
       " 0.0,\n",
       " 0.0,\n",
       " 0.0]"
      ]
     },
     "execution_count": 5,
     "metadata": {},
     "output_type": "execute_result"
    }
   ],
   "source": [
    "psutil.cpu_percent(interval=10, percpu=True)"
   ]
  },
  {
   "cell_type": "code",
   "execution_count": 5,
   "metadata": {},
   "outputs": [
    {
     "data": {
      "text/plain": [
       "[scputimes(user=16.0, nice=0.0, system=1.2, idle=82.8, iowait=0.0, irq=0.0, softirq=0.0, steal=0.0, guest=0.0, guest_nice=0.0),\n",
       " scputimes(user=14.8, nice=0.0, system=5.6, idle=79.6, iowait=0.0, irq=0.0, softirq=0.0, steal=0.0, guest=0.0, guest_nice=0.0),\n",
       " scputimes(user=15.5, nice=0.0, system=1.5, idle=83.0, iowait=0.0, irq=0.0, softirq=0.0, steal=0.0, guest=0.0, guest_nice=0.0),\n",
       " scputimes(user=13.6, nice=0.0, system=5.8, idle=80.6, iowait=0.0, irq=0.0, softirq=0.0, steal=0.0, guest=0.0, guest_nice=0.0),\n",
       " scputimes(user=15.2, nice=0.0, system=1.4, idle=83.4, iowait=0.0, irq=0.0, softirq=0.0, steal=0.0, guest=0.0, guest_nice=0.0),\n",
       " scputimes(user=15.4, nice=0.0, system=5.9, idle=78.7, iowait=0.0, irq=0.0, softirq=0.0, steal=0.0, guest=0.0, guest_nice=0.0),\n",
       " scputimes(user=15.4, nice=0.0, system=1.5, idle=83.1, iowait=0.0, irq=0.0, softirq=0.0, steal=0.0, guest=0.0, guest_nice=0.0),\n",
       " scputimes(user=15.7, nice=0.0, system=1.3, idle=83.0, iowait=0.0, irq=0.0, softirq=0.0, steal=0.0, guest=0.0, guest_nice=0.0),\n",
       " scputimes(user=15.1, nice=0.0, system=1.9, idle=83.0, iowait=0.0, irq=0.0, softirq=0.0, steal=0.0, guest=0.0, guest_nice=0.0),\n",
       " scputimes(user=14.4, nice=0.0, system=2.2, idle=83.4, iowait=0.0, irq=0.0, softirq=0.0, steal=0.0, guest=0.0, guest_nice=0.0),\n",
       " scputimes(user=14.6, nice=0.0, system=1.8, idle=83.6, iowait=0.0, irq=0.0, softirq=0.0, steal=0.0, guest=0.0, guest_nice=0.0),\n",
       " scputimes(user=15.2, nice=0.0, system=1.9, idle=82.9, iowait=0.0, irq=0.0, softirq=0.0, steal=0.0, guest=0.0, guest_nice=0.0),\n",
       " scputimes(user=14.8, nice=0.0, system=1.5, idle=83.7, iowait=0.0, irq=0.0, softirq=0.0, steal=0.0, guest=0.0, guest_nice=0.0),\n",
       " scputimes(user=14.6, nice=0.0, system=1.6, idle=83.8, iowait=0.0, irq=0.0, softirq=0.0, steal=0.0, guest=0.0, guest_nice=0.0),\n",
       " scputimes(user=16.4, nice=0.0, system=2.4, idle=81.2, iowait=0.0, irq=0.0, softirq=0.0, steal=0.0, guest=0.0, guest_nice=0.0),\n",
       " scputimes(user=56.4, nice=0.0, system=39.9, idle=3.7, iowait=0.0, irq=0.0, softirq=0.0, steal=0.0, guest=0.0, guest_nice=0.0)]"
      ]
     },
     "execution_count": 5,
     "metadata": {},
     "output_type": "execute_result"
    }
   ],
   "source": [
    "psutil.cpu_times_percent(interval=10, percpu=True)"
   ]
  },
  {
   "cell_type": "code",
   "execution_count": 21,
   "metadata": {},
   "outputs": [
    {
     "data": {
      "text/plain": [
       "{'fd0': sdiskio(read_count=0, write_count=0, read_bytes=0, write_bytes=0, read_time=0, write_time=0, read_merged_count=0, write_merged_count=0, busy_time=0),\n",
       " 'sda': sdiskio(read_count=204101, write_count=4222336, read_bytes=14818348544, write_bytes=156385716736, read_time=641744, write_time=14147850, read_merged_count=538853, write_merged_count=4148816, busy_time=804761),\n",
       " 'sda1': sdiskio(read_count=1938, write_count=2202, read_bytes=12463104, write_bytes=15443968, read_time=443, write_time=849, read_merged_count=0, write_merged_count=4, busy_time=968),\n",
       " 'sda2': sdiskio(read_count=202073, write_count=4220134, read_bytes=14803747328, write_bytes=156370272768, read_time=641282, write_time=14147001, read_merged_count=538853, write_merged_count=4148812, busy_time=803829),\n",
       " 'sr0': sdiskio(read_count=0, write_count=0, read_bytes=0, write_bytes=0, read_time=0, write_time=0, read_merged_count=0, write_merged_count=0, busy_time=0),\n",
       " 'dm-0': sdiskio(read_count=123391, write_count=5468435, read_bytes=12271178240, write_bytes=144464765440, read_time=534771, write_time=21472009, read_merged_count=0, write_merged_count=0, busy_time=674942),\n",
       " 'dm-1': sdiskio(read_count=617757, write_count=2906618, read_bytes=2532229120, write_bytes=11905507328, read_time=823399, write_time=197843389, read_merged_count=0, write_merged_count=0, busy_time=141192)}"
      ]
     },
     "execution_count": 21,
     "metadata": {},
     "output_type": "execute_result"
    }
   ],
   "source": [
    "psutil.disk_io_counters(perdisk=True, nowrap=True)"
   ]
  },
  {
   "cell_type": "code",
   "execution_count": 6,
   "metadata": {},
   "outputs": [
    {
     "data": {
      "text/plain": [
       "[sdiskpart(device='/dev/mapper/cl_nvme-root', mountpoint='/', fstype='xfs', opts='rw,seclabel,relatime,attr2,inode64,noquota'),\n",
       " sdiskpart(device='/dev/nvme0n1p2', mountpoint='/boot', fstype='ext4', opts='rw,seclabel,relatime'),\n",
       " sdiskpart(device='/dev/nvme0n1p1', mountpoint='/boot/efi', fstype='vfat', opts='rw,relatime,fmask=0077,dmask=0077,codepage=437,iocharset=ascii,shortname=winnt,errors=remount-ro'),\n",
       " sdiskpart(device='/dev/mapper/cl_sas-home', mountpoint='/home', fstype='xfs', opts='rw,seclabel,relatime,attr2,inode64,noquota')]"
      ]
     },
     "execution_count": 6,
     "metadata": {},
     "output_type": "execute_result"
    }
   ],
   "source": [
    "psutil.disk_partitions(all=False)"
   ]
  },
  {
   "cell_type": "code",
   "execution_count": 7,
   "metadata": {},
   "outputs": [
    {
     "data": {
      "text/plain": [
       "sdiskusage(total=1593531006976, used=37620682752, free=1555910324224, percent=2.4)"
      ]
     },
     "execution_count": 7,
     "metadata": {},
     "output_type": "execute_result"
    }
   ],
   "source": [
    "psutil.disk_usage('/')"
   ]
  },
  {
   "cell_type": "code",
   "execution_count": 8,
   "metadata": {},
   "outputs": [
    {
     "data": {
      "text/plain": [
       "{'ens42f0': snetio(bytes_sent=0, bytes_recv=0, packets_sent=0, packets_recv=0, errin=0, errout=0, dropin=0, dropout=0),\n",
       " 'ens12f0': snetio(bytes_sent=0, bytes_recv=0, packets_sent=0, packets_recv=0, errin=0, errout=0, dropin=0, dropout=0),\n",
       " 'ens42f1': snetio(bytes_sent=0, bytes_recv=0, packets_sent=0, packets_recv=0, errin=0, errout=0, dropin=0, dropout=0),\n",
       " 'ens44f0': snetio(bytes_sent=0, bytes_recv=0, packets_sent=0, packets_recv=0, errin=0, errout=0, dropin=0, dropout=0),\n",
       " 'ens12f1': snetio(bytes_sent=169134660, bytes_recv=7825275808, packets_sent=1747826, packets_recv=5364926, errin=0, errout=0, dropin=0, dropout=0),\n",
       " 'ens44f1': snetio(bytes_sent=0, bytes_recv=0, packets_sent=0, packets_recv=0, errin=0, errout=0, dropin=0, dropout=0),\n",
       " 'lo': snetio(bytes_sent=42416882, bytes_recv=42416882, packets_sent=59318, packets_recv=59318, errin=0, errout=0, dropin=0, dropout=0)}"
      ]
     },
     "execution_count": 8,
     "metadata": {},
     "output_type": "execute_result"
    }
   ],
   "source": [
    "psutil.net_io_counters(pernic=True, nowrap=True)"
   ]
  },
  {
   "cell_type": "code",
   "execution_count": 31,
   "metadata": {},
   "outputs": [
    {
     "data": {
      "text/plain": [
       "{'lo': snicstats(isup=True, duplex=<NicDuplex.NIC_DUPLEX_UNKNOWN: 0>, speed=0, mtu=65536),\n",
       " 'virbr0-nic': snicstats(isup=False, duplex=<NicDuplex.NIC_DUPLEX_FULL: 2>, speed=10, mtu=1500),\n",
       " 'virbr0': snicstats(isup=True, duplex=<NicDuplex.NIC_DUPLEX_UNKNOWN: 0>, speed=0, mtu=1500),\n",
       " 'eno16777984': snicstats(isup=True, duplex=<NicDuplex.NIC_DUPLEX_FULL: 2>, speed=10000, mtu=1500)}"
      ]
     },
     "execution_count": 31,
     "metadata": {},
     "output_type": "execute_result"
    }
   ],
   "source": [
    "psutil.net_if_stats()"
   ]
  },
  {
   "cell_type": "code",
   "execution_count": 3,
   "metadata": {},
   "outputs": [
    {
     "data": {
      "text/plain": [
       "sswap(total=5368705024, used=89391104, free=5279313920, percent=1.7, sin=82567168, sout=1283928064)"
      ]
     },
     "execution_count": 3,
     "metadata": {},
     "output_type": "execute_result"
    }
   ],
   "source": [
    "psutil.swap_memory()"
   ]
  },
  {
   "cell_type": "code",
   "execution_count": 9,
   "metadata": {},
   "outputs": [
    {
     "data": {
      "text/plain": [
       "svmem(total=269816713216, available=265060675584, percent=1.8, used=2857877504, free=249516355584, active=3696365568, inactive=13482278912, buffers=5595136, cached=17436884992, shared=19787776, slab=1352724480)"
      ]
     },
     "execution_count": 9,
     "metadata": {},
     "output_type": "execute_result"
    }
   ],
   "source": [
    "psutil.virtual_memory()"
   ]
  },
  {
   "cell_type": "code",
   "execution_count": 10,
   "metadata": {},
   "outputs": [
    {
     "data": {
      "text/plain": [
       "[suser(name='lotress', terminal='pts/0', host='172.16.110.134', started=1589872256.0, pid=61909),\n",
       " suser(name='xief', terminal='pts/1', host='172.16.110.126', started=1589871616.0, pid=60867),\n",
       " suser(name='root', terminal='pts/2', host='172.16.210.12', started=1589874944.0, pid=62862)]"
      ]
     },
     "execution_count": 10,
     "metadata": {},
     "output_type": "execute_result"
    }
   ],
   "source": [
    "psutil.users()"
   ]
  },
  {
   "cell_type": "code",
   "execution_count": 2,
   "metadata": {},
   "outputs": [],
   "source": [
    "me = psutil.Process(os.getpid()).as_dict()['username']"
   ]
  },
  {
   "cell_type": "code",
   "execution_count": 6,
   "metadata": {},
   "outputs": [
    {
     "name": "stdout",
     "output_type": "stream",
     "text": [
      "{'cmdline': ['/usr/local/anaconda3/bin/python', '/usr/local/anaconda3/bin/jupyterhub-singleuser', '--port=46157'], 'username': 'lotress', 'cpu_percent': 0.4, 'pid': 22251, 'cpu_num': 2, 'memory_info': pmem(rss=67252224, vms=654069760, shared=9846784, text=2322432, lib=0, data=508878848, dirty=0), 'name': 'ZMQbg/3', 'create_time': 1575255703.91}\n",
      "{'cmdline': ['/usr/local/anaconda3/bin/python', '-m', 'ipykernel_launcher', '-f', '/home/lotress/.local/share/jupyter/runtime/kernel-94013719-8f96-4006-b8c8-9752698f02d4.json'], 'username': 'lotress', 'cpu_percent': 0.3, 'pid': 24265, 'cpu_num': 14, 'memory_info': pmem(rss=47992832, vms=651653120, shared=8495104, text=2322432, lib=0, data=505696256, dirty=0), 'name': 'ZMQbg/1', 'create_time': 1575255747.16}\n",
      "{'cmdline': ['/usr/local/anaconda3/bin/python', '-m', 'ipykernel_launcher', '-f', '/home/lotress/.local/share/jupyter/runtime/kernel-d6e65249-0145-4f0f-8862-c7fbc353849b.json'], 'username': 'lotress', 'cpu_percent': 0.0, 'pid': 28595, 'cpu_num': 10, 'memory_info': pmem(rss=42889216, vms=647376896, shared=8138752, text=2322432, lib=0, data=503627776, dirty=0), 'name': 'ZMQbg/1', 'create_time': 1575255813.31}\n"
     ]
    }
   ],
   "source": [
    "attrs = ['cpu_percent', 'name', 'memory_info', 'create_time', 'cmdline', 'cpu_num', 'pid', 'username']\n",
    "for proc in psutil.process_iter(attrs):\n",
    "    info = proc.info\n",
    "    if info['username'] == me:\n",
    "        print(proc.info)"
   ]
  },
  {
   "cell_type": "code",
   "execution_count": 61,
   "metadata": {},
   "outputs": [
    {
     "data": {
      "text/plain": [
       "{'nice': 0,\n",
       " 'status': 'running',\n",
       " 'memory_percent': 24.21505380018038,\n",
       " 'username': 'lotress',\n",
       " 'cpu_percent': 0.0,\n",
       " 'memory_info': pmem(rss=8128061440, vms=10117201920, shared=25923584, text=2338816, lib=0, data=9701859328, dirty=0),\n",
       " 'create_time': 1543898104.97,\n",
       " 'threads': [pthread(id=26930, user_time=16498.23, system_time=126.95),\n",
       "  pthread(id=26935, user_time=0.0, system_time=0.0),\n",
       "  pthread(id=26936, user_time=0.0, system_time=0.0),\n",
       "  pthread(id=26937, user_time=0.01, system_time=0.01),\n",
       "  pthread(id=26938, user_time=0.0, system_time=0.0),\n",
       "  pthread(id=26939, user_time=0.0, system_time=0.0),\n",
       "  pthread(id=26940, user_time=0.0, system_time=0.0),\n",
       "  pthread(id=26941, user_time=0.0, system_time=0.01),\n",
       "  pthread(id=26942, user_time=0.69, system_time=0.56),\n",
       "  pthread(id=28121, user_time=1.0, system_time=1.47),\n",
       "  pthread(id=28122, user_time=2.02, system_time=0.18),\n",
       "  pthread(id=28123, user_time=2.13, system_time=0.18),\n",
       "  pthread(id=28124, user_time=2.12, system_time=0.19),\n",
       "  pthread(id=28125, user_time=1.35, system_time=0.15),\n",
       "  pthread(id=28126, user_time=2.11, system_time=0.2),\n",
       "  pthread(id=28127, user_time=2.09, system_time=0.19),\n",
       "  pthread(id=28128, user_time=1.89, system_time=0.19),\n",
       "  pthread(id=28129, user_time=2.13, system_time=0.19),\n",
       "  pthread(id=28130, user_time=2.08, system_time=0.18),\n",
       "  pthread(id=28131, user_time=2.13, system_time=0.17),\n",
       "  pthread(id=28132, user_time=2.14, system_time=0.16),\n",
       "  pthread(id=28133, user_time=2.16, system_time=0.16),\n",
       "  pthread(id=28134, user_time=2.15, system_time=0.16),\n",
       "  pthread(id=28135, user_time=1.48, system_time=0.13),\n",
       "  pthread(id=28136, user_time=1.9, system_time=0.17)],\n",
       " 'exe': '/usr/local/anaconda3/bin/python3.7',\n",
       " 'open_files': [popenfile(path='/home/lotress/.ipython/profile_default/history.sqlite', fd=35, position=12288, mode='r+', flags=557058),\n",
       "  popenfile(path='/home/lotress/.ipython/profile_default/history.sqlite', fd=36, position=163840, mode='r+', flags=557058)],\n",
       " 'io_counters': pio(read_count=34752, write_count=264, read_bytes=53248, write_bytes=307200, read_chars=4454587662, write_chars=236249),\n",
       " 'cwd': '/home/lotress/news',\n",
       " 'cpu_times': pcputimes(user=16530.49, system=131.14, children_user=0.0, children_system=0.0),\n",
       " 'environ': {'PATH': '/usr/local/anaconda3/bin:/usr/share/jdk1.8.0_161/bin:/usr/share/jdk1.8.0_161/jre/bin:/usr/lib64/qt-3.3/bin:/usr/local/sbin:/usr/local/bin:/sbin:/bin:/usr/sbin:/usr/bin:/root/bin',\n",
       "  'LANG': 'zh_CN.UTF-8',\n",
       "  'JUPYTERHUB_API_TOKEN': '95936f940d5e436dab01f10307e6e496',\n",
       "  'JPY_API_TOKEN': '95936f940d5e436dab01f10307e6e496',\n",
       "  'JUPYTERHUB_CLIENT_ID': 'jupyterhub-user-lotress',\n",
       "  'JUPYTERHUB_HOST': '',\n",
       "  'JUPYTERHUB_OAUTH_CALLBACK_URL': '/user/lotress/oauth_callback',\n",
       "  'JUPYTERHUB_USER': 'lotress',\n",
       "  'JUPYTERHUB_API_URL': 'http://127.0.0.1:8081/hub/api',\n",
       "  'JUPYTERHUB_BASE_URL': '/',\n",
       "  'JUPYTERHUB_SERVICE_PREFIX': '/user/lotress/',\n",
       "  'USER': 'lotress',\n",
       "  'HOME': '/home/lotress',\n",
       "  'SHELL': '/bin/bash',\n",
       "  'JPY_PARENT_PID': '5235'},\n",
       " 'memory_full_info': pfullmem(rss=8128061440, vms=10117201920, shared=25923584, text=2338816, lib=0, data=9701859328, dirty=0, uss=8102674432, pss=8111177728, swap=0),\n",
       " 'cpu_affinity': [0, 1, 2, 3, 4, 5, 6, 7, 8, 9, 10, 11, 12, 13, 14, 15],\n",
       " 'cmdline': ['/usr/local/anaconda3/bin/python',\n",
       "  '-m',\n",
       "  'ipykernel_launcher',\n",
       "  '-f',\n",
       "  '/home/lotress/.local/share/jupyter/runtime/kernel-5a42f64e-1bb4-4957-a56a-5be2091c9474.json'],\n",
       " 'connections': [pconn(fd=16, family=<AddressFamily.AF_INET: 2>, type=<SocketKind.SOCK_STREAM: 1>, laddr=addr(ip='127.0.0.1', port=54859), raddr=(), status='LISTEN'),\n",
       "  pconn(fd=38, family=<AddressFamily.AF_INET: 2>, type=<SocketKind.SOCK_STREAM: 1>, laddr=addr(ip='127.0.0.1', port=60412), raddr=addr(ip='127.0.0.1', port=57516), status='ESTABLISHED'),\n",
       "  pconn(fd=23, family=<AddressFamily.AF_INET: 2>, type=<SocketKind.SOCK_STREAM: 1>, laddr=addr(ip='127.0.0.1', port=41855), raddr=(), status='LISTEN'),\n",
       "  pconn(fd=14, family=<AddressFamily.AF_INET: 2>, type=<SocketKind.SOCK_STREAM: 1>, laddr=addr(ip='127.0.0.1', port=58942), raddr=(), status='LISTEN'),\n",
       "  pconn(fd=31, family=<AddressFamily.AF_INET: 2>, type=<SocketKind.SOCK_STREAM: 1>, laddr=addr(ip='127.0.0.1', port=58760), raddr=(), status='LISTEN'),\n",
       "  pconn(fd=39, family=<AddressFamily.AF_INET: 2>, type=<SocketKind.SOCK_STREAM: 1>, laddr=addr(ip='127.0.0.1', port=48112), raddr=addr(ip='127.0.0.1', port=54808), status='ESTABLISHED'),\n",
       "  pconn(fd=40, family=<AddressFamily.AF_INET: 2>, type=<SocketKind.SOCK_STREAM: 1>, laddr=addr(ip='127.0.0.1', port=48112), raddr=addr(ip='127.0.0.1', port=54802), status='ESTABLISHED'),\n",
       "  pconn(fd=37, family=<AddressFamily.AF_INET: 2>, type=<SocketKind.SOCK_STREAM: 1>, laddr=addr(ip='127.0.0.1', port=58942), raddr=addr(ip='127.0.0.1', port=47336), status='ESTABLISHED'),\n",
       "  pconn(fd=18, family=<AddressFamily.AF_INET: 2>, type=<SocketKind.SOCK_STREAM: 1>, laddr=addr(ip='127.0.0.1', port=48112), raddr=(), status='LISTEN'),\n",
       "  pconn(fd=42, family=<AddressFamily.AF_INET: 2>, type=<SocketKind.SOCK_STREAM: 1>, laddr=addr(ip='127.0.0.1', port=54859), raddr=addr(ip='127.0.0.1', port=49904), status='ESTABLISHED'),\n",
       "  pconn(fd=12, family=<AddressFamily.AF_INET: 2>, type=<SocketKind.SOCK_STREAM: 1>, laddr=addr(ip='127.0.0.1', port=60412), raddr=(), status='LISTEN')],\n",
       " 'num_fds': 44,\n",
       " 'name': 'ZMQbg/1',\n",
       " 'num_threads': 25,\n",
       " 'memory_maps': [pmmap_grouped(path='/usr/local/anaconda3/bin/python3.7', rss=2846720, size=3461120, pss=774144, shared_clean=2564096, shared_dirty=0, private_clean=8192, private_dirty=274432, referenced=2846720, anonymous=274432, swap=0),\n",
       "  pmmap_grouped(path='[anon]', rss=4624977920, size=6229520384, pss=4624977920, shared_clean=0, shared_dirty=0, private_clean=0, private_dirty=4624977920, referenced=4624977920, anonymous=4624977920, swap=0),\n",
       "  pmmap_grouped(path='[heap]', rss=3471994880, size=3472195584, pss=3471994880, shared_clean=0, shared_dirty=0, private_clean=0, private_dirty=3471994880, referenced=3471994880, anonymous=3471994880, swap=0),\n",
       "  pmmap_grouped(path='/usr/local/anaconda3/lib/libmkl_vml_avx2.so', rss=278528, size=12431360, pss=182272, shared_clean=192512, shared_dirty=0, private_clean=8192, private_dirty=77824, referenced=278528, anonymous=77824, swap=0),\n",
       "  pmmap_grouped(path='/usr/local/anaconda3/lib/python3.7/site-packages/sklearn/neighbors/kd_tree.cpython-37m-x86_64-linux-gnu.so', rss=155648, size=466944, pss=92160, shared_clean=126976, shared_dirty=0, private_clean=0, private_dirty=28672, referenced=155648, anonymous=28672, swap=0),\n",
       "  pmmap_grouped(path='/usr/local/anaconda3/lib/python3.7/site-packages/sklearn/neighbors/dist_metrics.cpython-37m-x86_64-linux-gnu.so', rss=143360, size=299008, pss=86016, shared_clean=114688, shared_dirty=0, private_clean=0, private_dirty=28672, referenced=143360, anonymous=28672, swap=0),\n",
       "  pmmap_grouped(path='/usr/local/anaconda3/lib/python3.7/site-packages/sklearn/neighbors/ball_tree.cpython-37m-x86_64-linux-gnu.so', rss=155648, size=462848, pss=92160, shared_clean=126976, shared_dirty=0, private_clean=0, private_dirty=28672, referenced=155648, anonymous=28672, swap=0),\n",
       "  pmmap_grouped(path='/usr/local/anaconda3/lib/python3.7/site-packages/sklearn/linear_model/sag_fast.cpython-37m-x86_64-linux-gnu.so', rss=53248, size=110592, pss=32768, shared_clean=40960, shared_dirty=0, private_clean=0, private_dirty=12288, referenced=53248, anonymous=12288, swap=0),\n",
       "  pmmap_grouped(path='/usr/local/anaconda3/lib/python3.7/site-packages/sklearn/linear_model/sgd_fast.cpython-37m-x86_64-linux-gnu.so', rss=102400, size=200704, pss=63488, shared_clean=77824, shared_dirty=0, private_clean=0, private_dirty=24576, referenced=102400, anonymous=24576, swap=0),\n",
       "  pmmap_grouped(path='/usr/local/anaconda3/lib/python3.7/site-packages/sklearn/linear_model/cd_fast.cpython-37m-x86_64-linux-gnu.so', rss=126976, size=397312, pss=75776, shared_clean=102400, shared_dirty=0, private_clean=0, private_dirty=24576, referenced=126976, anonymous=24576, swap=0),\n",
       "  pmmap_grouped(path='/usr/local/anaconda3/lib/python3.7/site-packages/sklearn/neighbors/typedefs.cpython-37m-x86_64-linux-gnu.so', rss=28672, size=28672, pss=18432, shared_clean=20480, shared_dirty=0, private_clean=0, private_dirty=8192, referenced=28672, anonymous=8192, swap=0),\n",
       "  pmmap_grouped(path='/usr/local/anaconda3/lib/python3.7/site-packages/sklearn/utils/weight_vector.cpython-37m-x86_64-linux-gnu.so', rss=53248, size=57344, pss=30720, shared_clean=45056, shared_dirty=0, private_clean=0, private_dirty=8192, referenced=53248, anonymous=8192, swap=0),\n",
       "  pmmap_grouped(path='/usr/local/anaconda3/lib/python3.7/site-packages/sklearn/utils/_random.cpython-37m-x86_64-linux-gnu.so', rss=53248, size=94208, pss=32768, shared_clean=40960, shared_dirty=0, private_clean=0, private_dirty=12288, referenced=53248, anonymous=12288, swap=0),\n",
       "  pmmap_grouped(path='/usr/local/anaconda3/lib/python3.7/site-packages/sklearn/metrics/pairwise_fast.cpython-37m-x86_64-linux-gnu.so', rss=98304, size=237568, pss=59392, shared_clean=77824, shared_dirty=0, private_clean=0, private_dirty=20480, referenced=98304, anonymous=20480, swap=0),\n",
       "  pmmap_grouped(path='/usr/local/anaconda3/lib/python3.7/site-packages/sklearn/metrics/cluster/expected_mutual_info_fast.cpython-37m-x86_64-linux-gnu.so', rss=53248, size=106496, pss=30720, shared_clean=45056, shared_dirty=0, private_clean=0, private_dirty=8192, referenced=53248, anonymous=8192, swap=0),\n",
       "  pmmap_grouped(path='/usr/local/anaconda3/lib/python3.7/site-packages/sklearn/utils/arrayfuncs.cpython-37m-x86_64-linux-gnu.so', rss=45056, size=53248, pss=26624, shared_clean=36864, shared_dirty=0, private_clean=0, private_dirty=8192, referenced=45056, anonymous=8192, swap=0),\n",
       "  pmmap_grouped(path='/usr/local/anaconda3/lib/python3.7/site-packages/sklearn/svm/libsvm_sparse.cpython-37m-x86_64-linux-gnu.so', rss=159744, size=270336, pss=90112, shared_clean=139264, shared_dirty=0, private_clean=8192, private_dirty=12288, referenced=159744, anonymous=12288, swap=0),\n",
       "  pmmap_grouped(path='/usr/local/anaconda3/lib/python3.7/site-packages/sklearn/svm/liblinear.cpython-37m-x86_64-linux-gnu.so', rss=65536, size=131072, pss=36864, shared_clean=57344, shared_dirty=0, private_clean=0, private_dirty=8192, referenced=65536, anonymous=8192, swap=0),\n",
       "  pmmap_grouped(path='/usr/local/anaconda3/lib/python3.7/site-packages/sklearn/svm/libsvm.cpython-37m-x86_64-linux-gnu.so', rss=102400, size=294912, pss=59392, shared_clean=86016, shared_dirty=0, private_clean=0, private_dirty=16384, referenced=102400, anonymous=16384, swap=0),\n",
       "  pmmap_grouped(path='/usr/local/anaconda3/lib/python3.7/site-packages/sklearn/utils/seq_dataset.cpython-37m-x86_64-linux-gnu.so', rss=65536, size=102400, pss=38912, shared_clean=53248, shared_dirty=0, private_clean=0, private_dirty=12288, referenced=65536, anonymous=12288, swap=0),\n",
       "  pmmap_grouped(path='/usr/local/anaconda3/lib/python3.7/site-packages/sklearn/utils/lgamma.cpython-37m-x86_64-linux-gnu.so', rss=28672, size=28672, pss=18432, shared_clean=20480, shared_dirty=0, private_clean=0, private_dirty=8192, referenced=28672, anonymous=8192, swap=0),\n",
       "  pmmap_grouped(path='/usr/local/anaconda3/lib/python3.7/site-packages/sklearn/utils/sparsefuncs_fast.cpython-37m-x86_64-linux-gnu.so', rss=147456, size=421888, pss=86016, shared_clean=122880, shared_dirty=0, private_clean=0, private_dirty=24576, referenced=147456, anonymous=24576, swap=0),\n",
       "  pmmap_grouped(path='/usr/local/anaconda3/lib/python3.7/site-packages/sklearn/utils/_logistic_sigmoid.cpython-37m-x86_64-linux-gnu.so', rss=40960, size=49152, pss=24576, shared_clean=32768, shared_dirty=0, private_clean=0, private_dirty=8192, referenced=40960, anonymous=8192, swap=0),\n",
       "  pmmap_grouped(path='/usr/local/anaconda3/lib/python3.7/site-packages/scipy/stats/mvn.cpython-37m-x86_64-linux-gnu.so', rss=36864, size=81920, pss=22528, shared_clean=28672, shared_dirty=0, private_clean=0, private_dirty=8192, referenced=36864, anonymous=8192, swap=0),\n",
       "  pmmap_grouped(path='/usr/local/anaconda3/lib/python3.7/site-packages/scipy/stats/statlib.cpython-37m-x86_64-linux-gnu.so', rss=32768, size=57344, pss=20480, shared_clean=24576, shared_dirty=0, private_clean=0, private_dirty=8192, referenced=32768, anonymous=8192, swap=0),\n",
       "  pmmap_grouped(path='/usr/local/anaconda3/lib/python3.7/site-packages/scipy/stats/_stats.cpython-37m-x86_64-linux-gnu.so', rss=118784, size=442368, pss=71680, shared_clean=94208, shared_dirty=0, private_clean=0, private_dirty=24576, referenced=118784, anonymous=24576, swap=0),\n",
       "  pmmap_grouped(path='/usr/local/anaconda3/lib/python3.7/site-packages/scipy/integrate/lsoda.cpython-37m-x86_64-linux-gnu.so', rss=36864, size=118784, pss=22528, shared_clean=28672, shared_dirty=0, private_clean=0, private_dirty=8192, referenced=36864, anonymous=8192, swap=0),\n",
       "  pmmap_grouped(path='/usr/local/anaconda3/lib/python3.7/site-packages/scipy/integrate/_dop.cpython-37m-x86_64-linux-gnu.so', rss=45056, size=122880, pss=28672, shared_clean=32768, shared_dirty=0, private_clean=0, private_dirty=12288, referenced=45056, anonymous=12288, swap=0),\n",
       "  pmmap_grouped(path='/usr/local/anaconda3/lib/python3.7/site-packages/scipy/integrate/vode.cpython-37m-x86_64-linux-gnu.so', rss=49152, size=217088, pss=30720, shared_clean=36864, shared_dirty=0, private_clean=0, private_dirty=12288, referenced=49152, anonymous=12288, swap=0),\n",
       "  pmmap_grouped(path='/usr/local/anaconda3/lib/python3.7/site-packages/scipy/integrate/_quadpack.cpython-37m-x86_64-linux-gnu.so', rss=32768, size=122880, pss=20480, shared_clean=24576, shared_dirty=0, private_clean=0, private_dirty=8192, referenced=32768, anonymous=8192, swap=0),\n",
       "  pmmap_grouped(path='/usr/local/anaconda3/lib/python3.7/site-packages/scipy/integrate/_odepack.cpython-37m-x86_64-linux-gnu.so', rss=32768, size=98304, pss=20480, shared_clean=24576, shared_dirty=0, private_clean=0, private_dirty=8192, referenced=32768, anonymous=8192, swap=0),\n",
       "  pmmap_grouped(path='/usr/local/anaconda3/lib/python3.7/site-packages/scipy/optimize/_nnls.cpython-37m-x86_64-linux-gnu.so', rss=32768, size=49152, pss=20480, shared_clean=24576, shared_dirty=0, private_clean=0, private_dirty=8192, referenced=32768, anonymous=8192, swap=0),\n",
       "  pmmap_grouped(path='/usr/local/anaconda3/lib/python3.7/site-packages/scipy/optimize/_zeros.cpython-37m-x86_64-linux-gnu.so', rss=24576, size=24576, pss=16384, shared_clean=16384, shared_dirty=0, private_clean=0, private_dirty=8192, referenced=24576, anonymous=8192, swap=0),\n",
       "  pmmap_grouped(path='/usr/local/anaconda3/lib/python3.7/site-packages/scipy/optimize/_lsq/givens_elimination.cpython-37m-x86_64-linux-gnu.so', rss=81920, size=172032, pss=49152, shared_clean=65536, shared_dirty=0, private_clean=0, private_dirty=16384, referenced=81920, anonymous=16384, swap=0),\n",
       "  pmmap_grouped(path='/usr/local/anaconda3/lib/python3.7/site-packages/scipy/optimize/_minpack.cpython-37m-x86_64-linux-gnu.so', rss=32768, size=139264, pss=20480, shared_clean=24576, shared_dirty=0, private_clean=0, private_dirty=8192, referenced=32768, anonymous=8192, swap=0),\n",
       "  pmmap_grouped(path='/usr/local/anaconda3/lib/python3.7/site-packages/scipy/optimize/_slsqp.cpython-37m-x86_64-linux-gnu.so', rss=36864, size=102400, pss=22528, shared_clean=28672, shared_dirty=0, private_clean=0, private_dirty=8192, referenced=36864, anonymous=8192, swap=0),\n",
       "  pmmap_grouped(path='/usr/local/anaconda3/lib/python3.7/site-packages/scipy/optimize/_cobyla.cpython-37m-x86_64-linux-gnu.so', rss=36864, size=135168, pss=22528, shared_clean=28672, shared_dirty=0, private_clean=0, private_dirty=8192, referenced=36864, anonymous=8192, swap=0),\n",
       "  pmmap_grouped(path='/usr/local/anaconda3/lib/python3.7/site-packages/scipy/optimize/moduleTNC.cpython-37m-x86_64-linux-gnu.so', rss=24576, size=45056, pss=16384, shared_clean=16384, shared_dirty=0, private_clean=0, private_dirty=8192, referenced=24576, anonymous=8192, swap=0),\n",
       "  pmmap_grouped(path='/usr/local/anaconda3/lib/python3.7/site-packages/scipy/optimize/_lbfgsb.cpython-37m-x86_64-linux-gnu.so', rss=36864, size=135168, pss=22528, shared_clean=28672, shared_dirty=0, private_clean=0, private_dirty=8192, referenced=36864, anonymous=8192, swap=0),\n",
       "  pmmap_grouped(path='/usr/local/anaconda3/lib/python3.7/site-packages/scipy/optimize/_group_columns.cpython-37m-x86_64-linux-gnu.so', rss=86016, size=188416, pss=51200, shared_clean=69632, shared_dirty=0, private_clean=0, private_dirty=16384, referenced=86016, anonymous=16384, swap=0),\n",
       "  pmmap_grouped(path='/usr/local/anaconda3/lib/python3.7/site-packages/scipy/optimize/_trlib/_trlib.cpython-37m-x86_64-linux-gnu.so', rss=102400, size=327680, pss=61440, shared_clean=81920, shared_dirty=0, private_clean=0, private_dirty=20480, referenced=102400, anonymous=20480, swap=0),\n",
       "  pmmap_grouped(path='/usr/local/anaconda3/lib/python3.7/site-packages/scipy/optimize/minpack2.cpython-37m-x86_64-linux-gnu.so', rss=32768, size=57344, pss=20480, shared_clean=24576, shared_dirty=0, private_clean=0, private_dirty=8192, referenced=32768, anonymous=8192, swap=0),\n",
       "  pmmap_grouped(path='/usr/local/anaconda3/lib/libtiff.so.5.3.0', rss=61440, size=507904, pss=40960, shared_clean=40960, shared_dirty=0, private_clean=0, private_dirty=20480, referenced=61440, anonymous=20480, swap=0),\n",
       "  pmmap_grouped(path='/usr/local/anaconda3/lib/libjpeg.so.9.2.0', rss=28672, size=2342912, pss=16384, shared_clean=24576, shared_dirty=0, private_clean=0, private_dirty=4096, referenced=28672, anonymous=4096, swap=0),\n",
       "  pmmap_grouped(path='/usr/local/anaconda3/lib/python3.7/site-packages/PIL/_imaging.cpython-37m-x86_64-linux-gnu.so', rss=143360, size=466944, pss=86016, shared_clean=114688, shared_dirty=0, private_clean=0, private_dirty=28672, referenced=143360, anonymous=28672, swap=0),\n",
       "  pmmap_grouped(path='/usr/local/anaconda3/lib/python3.7/site-packages/scipy/spatial/_hausdorff.cpython-37m-x86_64-linux-gnu.so', rss=81920, size=188416, pss=49152, shared_clean=65536, shared_dirty=0, private_clean=0, private_dirty=16384, referenced=81920, anonymous=16384, swap=0),\n",
       "  pmmap_grouped(path='/usr/local/anaconda3/lib/python3.7/site-packages/scipy/spatial/_distance_wrap.cpython-37m-x86_64-linux-gnu.so', rss=36864, size=110592, pss=22528, shared_clean=28672, shared_dirty=0, private_clean=0, private_dirty=8192, referenced=36864, anonymous=8192, swap=0),\n",
       "  pmmap_grouped(path='/usr/local/anaconda3/lib/python3.7/site-packages/scipy/spatial/_voronoi.cpython-37m-x86_64-linux-gnu.so', rss=81920, size=180224, pss=49152, shared_clean=65536, shared_dirty=0, private_clean=0, private_dirty=16384, referenced=81920, anonymous=16384, swap=0),\n",
       "  pmmap_grouped(path='/usr/local/anaconda3/lib/python3.7/site-packages/scipy/_lib/messagestream.cpython-37m-x86_64-linux-gnu.so', rss=36864, size=53248, pss=22528, shared_clean=28672, shared_dirty=0, private_clean=0, private_dirty=8192, referenced=36864, anonymous=8192, swap=0),\n",
       "  pmmap_grouped(path='/usr/local/anaconda3/lib/python3.7/site-packages/scipy/spatial/qhull.cpython-37m-x86_64-linux-gnu.so', rss=200704, size=892928, pss=116736, shared_clean=167936, shared_dirty=0, private_clean=0, private_dirty=32768, referenced=200704, anonymous=32768, swap=0),\n",
       "  pmmap_grouped(path='/usr/local/anaconda3/lib/python3.7/site-packages/scipy/spatial/ckdtree.cpython-37m-x86_64-linux-gnu.so', rss=110592, size=634880, pss=67584, shared_clean=86016, shared_dirty=0, private_clean=0, private_dirty=24576, referenced=110592, anonymous=24576, swap=0),\n",
       "  pmmap_grouped(path='/usr/local/anaconda3/lib/python3.7/site-packages/scipy/interpolate/interpnd.cpython-37m-x86_64-linux-gnu.so', rss=114688, size=348160, pss=67584, shared_clean=94208, shared_dirty=0, private_clean=0, private_dirty=20480, referenced=114688, anonymous=20480, swap=0),\n",
       "  pmmap_grouped(path='/usr/local/anaconda3/lib/python3.7/site-packages/scipy/interpolate/_ppoly.cpython-37m-x86_64-linux-gnu.so', rss=118784, size=356352, pss=71680, shared_clean=94208, shared_dirty=0, private_clean=0, private_dirty=24576, referenced=118784, anonymous=24576, swap=0),\n",
       "  pmmap_grouped(path='/usr/local/anaconda3/lib/python3.7/site-packages/scipy/interpolate/_bspl.cpython-37m-x86_64-linux-gnu.so', rss=110592, size=270336, pss=67584, shared_clean=86016, shared_dirty=0, private_clean=0, private_dirty=24576, referenced=110592, anonymous=24576, swap=0),\n",
       "  pmmap_grouped(path='/usr/local/anaconda3/lib/python3.7/site-packages/scipy/interpolate/dfitpack.cpython-37m-x86_64-linux-gnu.so', rss=69632, size=430080, pss=47104, shared_clean=45056, shared_dirty=0, private_clean=0, private_dirty=24576, referenced=69632, anonymous=24576, swap=0),\n",
       "  pmmap_grouped(path='/usr/local/anaconda3/lib/python3.7/site-packages/scipy/interpolate/_fitpack.cpython-37m-x86_64-linux-gnu.so', rss=32768, size=229376, pss=20480, shared_clean=24576, shared_dirty=0, private_clean=0, private_dirty=8192, referenced=32768, anonymous=8192, swap=0),\n",
       "  pmmap_grouped(path='/usr/local/anaconda3/lib/python3.7/site-packages/sklearn/feature_extraction/_hashing.cpython-37m-x86_64-linux-gnu.so', rss=40960, size=61440, pss=24576, shared_clean=32768, shared_dirty=0, private_clean=0, private_dirty=8192, referenced=40960, anonymous=8192, swap=0),\n",
       "  pmmap_grouped(path='/usr/local/anaconda3/lib/python3.7/lib-dynload/_multiprocessing.cpython-37m-x86_64-linux-gnu.so', rss=24576, size=24576, pss=16384, shared_clean=16384, shared_dirty=0, private_clean=0, private_dirty=8192, referenced=24576, anonymous=8192, swap=0),\n",
       "  pmmap_grouped(path='/usr/local/anaconda3/lib/python3.7/site-packages/scipy/special/_ellip_harm_2.cpython-37m-x86_64-linux-gnu.so', rss=53248, size=94208, pss=30720, shared_clean=45056, shared_dirty=0, private_clean=0, private_dirty=8192, referenced=53248, anonymous=8192, swap=0),\n",
       "  pmmap_grouped(path='/usr/local/anaconda3/lib/python3.7/site-packages/scipy/special/_comb.cpython-37m-x86_64-linux-gnu.so', rss=32768, size=40960, pss=20480, shared_clean=24576, shared_dirty=0, private_clean=0, private_dirty=8192, referenced=32768, anonymous=8192, swap=0),\n",
       "  pmmap_grouped(path='/usr/local/anaconda3/lib/python3.7/site-packages/scipy/special/specfun.cpython-37m-x86_64-linux-gnu.so', rss=69632, size=790528, pss=49152, shared_clean=40960, shared_dirty=0, private_clean=0, private_dirty=28672, referenced=69632, anonymous=28672, swap=0),\n",
       "  pmmap_grouped(path='/usr/local/anaconda3/lib/python3.7/site-packages/scipy/special/_ufuncs.cpython-37m-x86_64-linux-gnu.so', rss=229376, size=1589248, pss=129024, shared_clean=200704, shared_dirty=0, private_clean=0, private_dirty=28672, referenced=229376, anonymous=28672, swap=0),\n",
       "  pmmap_grouped(path='/usr/local/anaconda3/lib/libquadmath.so.0.0.0', rss=40960, size=212992, pss=28672, shared_clean=24576, shared_dirty=0, private_clean=8192, private_dirty=8192, referenced=40960, anonymous=8192, swap=0),\n",
       "  pmmap_grouped(path='/usr/local/anaconda3/lib/libgfortran.so.4.0.0', rss=151552, size=1232896, pss=79872, shared_clean=143360, shared_dirty=0, private_clean=0, private_dirty=8192, referenced=151552, anonymous=8192, swap=0),\n",
       "  pmmap_grouped(path='/usr/local/anaconda3/lib/python3.7/site-packages/scipy/sparse/linalg/eigen/arpack/_arpack.cpython-37m-x86_64-linux-gnu.so', rss=94208, size=589824, pss=67584, shared_clean=53248, shared_dirty=0, private_clean=0, private_dirty=40960, referenced=94208, anonymous=40960, swap=0),\n",
       "  pmmap_grouped(path='/usr/local/anaconda3/lib/python3.7/site-packages/scipy/sparse/linalg/dsolve/_superlu.cpython-37m-x86_64-linux-gnu.so', rss=32768, size=339968, pss=20480, shared_clean=24576, shared_dirty=0, private_clean=0, private_dirty=8192, referenced=32768, anonymous=8192, swap=0),\n",
       "  pmmap_grouped(path='/usr/local/anaconda3/lib/python3.7/site-packages/scipy/linalg/cython_lapack.cpython-37m-x86_64-linux-gnu.so', rss=307200, size=573440, pss=161792, shared_clean=290816, shared_dirty=0, private_clean=0, private_dirty=16384, referenced=307200, anonymous=16384, swap=0),\n",
       "  pmmap_grouped(path='/usr/local/anaconda3/lib/python3.7/site-packages/scipy/linalg/cython_blas.cpython-37m-x86_64-linux-gnu.so', rss=126976, size=258048, pss=71680, shared_clean=110592, shared_dirty=0, private_clean=0, private_dirty=16384, referenced=126976, anonymous=16384, swap=0),\n",
       "  pmmap_grouped(path='/usr/local/anaconda3/lib/python3.7/site-packages/scipy/linalg/_decomp_update.cpython-37m-x86_64-linux-gnu.so', rss=106496, size=319488, pss=61440, shared_clean=90112, shared_dirty=0, private_clean=0, private_dirty=16384, referenced=106496, anonymous=16384, swap=0),\n",
       "  pmmap_grouped(path='/usr/local/anaconda3/lib/python3.7/site-packages/scipy/linalg/_solve_toeplitz.cpython-37m-x86_64-linux-gnu.so', rss=98304, size=233472, pss=59392, shared_clean=77824, shared_dirty=0, private_clean=0, private_dirty=20480, referenced=98304, anonymous=20480, swap=0),\n",
       "  pmmap_grouped(path='/usr/local/anaconda3/lib/python3.7/site-packages/scipy/linalg/_flapack.cpython-37m-x86_64-linux-gnu.so', rss=352256, size=1253376, pss=258048, shared_clean=188416, shared_dirty=0, private_clean=0, private_dirty=163840, referenced=352256, anonymous=163840, swap=0),\n",
       "  pmmap_grouped(path='/usr/local/anaconda3/lib/python3.7/site-packages/scipy/linalg/_fblas.cpython-37m-x86_64-linux-gnu.so', rss=192512, size=589824, pss=137216, shared_clean=110592, shared_dirty=0, private_clean=0, private_dirty=81920, referenced=192512, anonymous=81920, swap=0),\n",
       "  pmmap_grouped(path='/usr/local/anaconda3/lib/python3.7/site-packages/scipy/sparse/csgraph/_traversal.cpython-37m-x86_64-linux-gnu.so', rss=61440, size=147456, pss=38912, shared_clean=45056, shared_dirty=0, private_clean=0, private_dirty=16384, referenced=61440, anonymous=16384, swap=0),\n",
       "  pmmap_grouped(path='/usr/local/anaconda3/lib/python3.7/site-packages/scipy/sparse/csgraph/_tools.cpython-37m-x86_64-linux-gnu.so', rss=65536, size=155648, pss=43008, shared_clean=45056, shared_dirty=0, private_clean=0, private_dirty=20480, referenced=65536, anonymous=20480, swap=0),\n",
       "  pmmap_grouped(path='/usr/local/anaconda3/lib/python3.7/site-packages/scipy/sparse/csgraph/_shortest_path.cpython-37m-x86_64-linux-gnu.so', rss=77824, size=245760, pss=49152, shared_clean=57344, shared_dirty=0, private_clean=0, private_dirty=20480, referenced=77824, anonymous=20480, swap=0),\n",
       "  pmmap_grouped(path='/usr/local/anaconda3/lib/python3.7/site-packages/scipy/sparse/_csparsetools.cpython-37m-x86_64-linux-gnu.so', rss=172032, size=512000, pss=98304, shared_clean=147456, shared_dirty=0, private_clean=0, private_dirty=24576, referenced=172032, anonymous=24576, swap=0),\n",
       "  pmmap_grouped(path='/usr/local/anaconda3/lib/python3.7/site-packages/scipy/sparse/_sparsetools.cpython-37m-x86_64-linux-gnu.so', rss=114688, size=3018752, pss=69632, shared_clean=90112, shared_dirty=0, private_clean=16384, private_dirty=8192, referenced=114688, anonymous=8192, swap=0),\n",
       "  pmmap_grouped(path='/usr/local/anaconda3/lib/python3.7/site-packages/pandas/_libs/testing.cpython-37m-x86_64-linux-gnu.so', rss=40960, size=2174976, pss=18432, shared_clean=32768, shared_dirty=0, private_clean=0, private_dirty=8192, referenced=40960, anonymous=8192, swap=0),\n",
       "  pmmap_grouped(path='/usr/local/anaconda3/lib/python3.7/site-packages/pandas/util/_move.cpython-37m-x86_64-linux-gnu.so', rss=12288, size=2109440, pss=9216, shared_clean=4096, shared_dirty=0, private_clean=0, private_dirty=8192, referenced=12288, anonymous=8192, swap=0),\n",
       "  pmmap_grouped(path='/usr/local/anaconda3/lib/python3.7/site-packages/pandas/io/msgpack/_unpacker.cpython-37m-x86_64-linux-gnu.so', rss=61440, size=2195456, pss=27648, shared_clean=49152, shared_dirty=0, private_clean=0, private_dirty=12288, referenced=61440, anonymous=12288, swap=0),\n",
       "  pmmap_grouped(path='/usr/local/anaconda3/lib/python3.7/site-packages/pandas/io/msgpack/_packer.cpython-37m-x86_64-linux-gnu.so', rss=53248, size=2179072, pss=22528, shared_clean=45056, shared_dirty=0, private_clean=0, private_dirty=8192, referenced=53248, anonymous=8192, swap=0),\n",
       "  pmmap_grouped(path='/usr/local/anaconda3/lib/python3.7/site-packages/pandas/_libs/writers.cpython-37m-x86_64-linux-gnu.so', rss=98304, size=2314240, pss=46080, shared_clean=77824, shared_dirty=0, private_clean=0, private_dirty=20480, referenced=98304, anonymous=20480, swap=0),\n",
       "  pmmap_grouped(path='/usr/local/anaconda3/lib/python3.7/site-packages/pandas/_libs/json.cpython-37m-x86_64-linux-gnu.so', rss=40960, size=2187264, pss=18432, shared_clean=32768, shared_dirty=0, private_clean=0, private_dirty=8192, referenced=40960, anonymous=8192, swap=0),\n",
       "  pmmap_grouped(path='/usr/local/anaconda3/lib/python3.7/site-packages/pandas/_libs/parsers.cpython-37m-x86_64-linux-gnu.so', rss=421888, size=2641920, pss=203776, shared_clean=376832, shared_dirty=0, private_clean=16384, private_dirty=28672, referenced=421888, anonymous=28672, swap=0),\n",
       "  pmmap_grouped(path='/usr/local/anaconda3/lib/python3.7/site-packages/pandas/_libs/reshape.cpython-37m-x86_64-linux-gnu.so', rss=57344, size=2203648, pss=26624, shared_clean=45056, shared_dirty=0, private_clean=0, private_dirty=12288, referenced=57344, anonymous=12288, swap=0),\n",
       "  pmmap_grouped(path='/usr/local/anaconda3/lib/python3.7/site-packages/pandas/_libs/groupby.cpython-37m-x86_64-linux-gnu.so', rss=163840, size=2859008, pss=78848, shared_clean=126976, shared_dirty=0, private_clean=0, private_dirty=36864, referenced=163840, anonymous=36864, swap=0),\n",
       "  pmmap_grouped(path='/usr/local/anaconda3/lib/python3.7/site-packages/pandas/_libs/reduction.cpython-37m-x86_64-linux-gnu.so', rss=139264, size=2367488, pss=83968, shared_clean=81920, shared_dirty=0, private_clean=40960, private_dirty=16384, referenced=139264, anonymous=16384, swap=0),\n",
       "  pmmap_grouped(path='/usr/local/anaconda3/lib/python3.7/site-packages/pandas/_libs/skiplist.cpython-37m-x86_64-linux-gnu.so', rss=57344, size=2191360, pss=23552, shared_clean=49152, shared_dirty=0, private_clean=0, private_dirty=8192, referenced=57344, anonymous=8192, swap=0),\n",
       "  pmmap_grouped(path='/usr/local/anaconda3/lib/python3.7/site-packages/pandas/_libs/window.cpython-37m-x86_64-linux-gnu.so', rss=167936, size=2764800, pss=76800, shared_clean=135168, shared_dirty=0, private_clean=0, private_dirty=32768, referenced=167936, anonymous=32768, swap=0),\n",
       "  pmmap_grouped(path='/usr/local/anaconda3/lib/python3.7/site-packages/matplotlib/_path.cpython-37m-x86_64-linux-gnu.so', rss=61440, size=2273280, pss=25600, shared_clean=53248, shared_dirty=0, private_clean=0, private_dirty=8192, referenced=61440, anonymous=8192, swap=0),\n",
       "  pmmap_grouped(path='/usr/local/anaconda3/lib/python3.7/site-packages/pandas/_libs/sparse.cpython-37m-x86_64-linux-gnu.so', rss=114688, size=3043328, pss=54272, shared_clean=90112, shared_dirty=0, private_clean=0, private_dirty=24576, referenced=114688, anonymous=24576, swap=0),\n",
       "  pmmap_grouped(path='/usr/local/anaconda3/lib/python3.7/site-packages/pandas/_libs/internals.cpython-37m-x86_64-linux-gnu.so', rss=143360, size=2359296, pss=68608, shared_clean=110592, shared_dirty=0, private_clean=12288, private_dirty=20480, referenced=143360, anonymous=20480, swap=0),\n",
       "  pmmap_grouped(path='/usr/local/anaconda3/lib/python3.7/site-packages/pandas/_libs/indexing.cpython-37m-x86_64-linux-gnu.so', rss=36864, size=2142208, pss=17408, shared_clean=28672, shared_dirty=0, private_clean=0, private_dirty=8192, referenced=36864, anonymous=8192, swap=0),\n",
       "  pmmap_grouped(path='/usr/local/anaconda3/lib/python3.7/site-packages/pandas/_libs/interval.cpython-37m-x86_64-linux-gnu.so', rss=393216, size=4464640, pss=174080, shared_clean=327680, shared_dirty=0, private_clean=0, private_dirty=65536, referenced=393216, anonymous=65536, swap=0),\n",
       "  pmmap_grouped(path='/usr/local/anaconda3/lib/python3.7/site-packages/pandas/_libs/ops.cpython-37m-x86_64-linux-gnu.so', rss=49152, size=2199552, pss=23552, shared_clean=36864, shared_dirty=0, private_clean=0, private_dirty=12288, referenced=49152, anonymous=12288, swap=0),\n",
       "  pmmap_grouped(path='/usr/local/anaconda3/lib/python3.7/site-packages/pandas/_libs/join.cpython-37m-x86_64-linux-gnu.so', rss=208896, size=4247552, pss=93184, shared_clean=172032, shared_dirty=0, private_clean=0, private_dirty=36864, referenced=208896, anonymous=36864, swap=0),\n",
       "  pmmap_grouped(path='/usr/local/anaconda3/lib/python3.7/site-packages/pandas/_libs/tslibs/offsets.cpython-37m-x86_64-linux-gnu.so', rss=188416, size=2465792, pss=83968, shared_clean=155648, shared_dirty=0, private_clean=0, private_dirty=32768, referenced=188416, anonymous=32768, swap=0),\n",
       "  pmmap_grouped(path='/usr/local/anaconda3/lib/python3.7/site-packages/pandas/_libs/tslibs/resolution.cpython-37m-x86_64-linux-gnu.so', rss=135168, size=2383872, pss=58368, shared_clean=114688, shared_dirty=0, private_clean=0, private_dirty=20480, referenced=135168, anonymous=20480, swap=0),\n",
       "  pmmap_grouped(path='/usr/local/anaconda3/lib/python3.7/site-packages/pandas/_libs/tslibs/frequencies.cpython-37m-x86_64-linux-gnu.so', rss=81920, size=2228224, pss=37888, shared_clean=65536, shared_dirty=0, private_clean=0, private_dirty=16384, referenced=81920, anonymous=16384, swap=0),\n",
       "  pmmap_grouped(path='/usr/local/anaconda3/lib/python3.7/site-packages/pandas/_libs/tslibs/period.cpython-37m-x86_64-linux-gnu.so', rss=139264, size=2465792, pss=62464, shared_clean=114688, shared_dirty=0, private_clean=0, private_dirty=24576, referenced=139264, anonymous=24576, swap=0),\n",
       "  pmmap_grouped(path='/usr/local/anaconda3/lib/python3.7/site-packages/pandas/_libs/index.cpython-37m-x86_64-linux-gnu.so', rss=204800, size=2633728, pss=100352, shared_clean=167936, shared_dirty=0, private_clean=8192, private_dirty=28672, referenced=204800, anonymous=28672, swap=0),\n",
       "  pmmap_grouped(path='/usr/local/anaconda3/lib/python3.7/site-packages/bottleneck/move.cpython-37m-x86_64-linux-gnu.so', rss=28672, size=2207744, pss=17408, shared_clean=16384, shared_dirty=0, private_clean=0, private_dirty=12288, referenced=28672, anonymous=12288, swap=0),\n",
       "  pmmap_grouped(path='/usr/local/anaconda3/lib/python3.7/site-packages/bottleneck/nonreduce_axis.cpython-37m-x86_64-linux-gnu.so', rss=24576, size=2138112, pss=15360, shared_clean=12288, shared_dirty=0, private_clean=0, private_dirty=12288, referenced=24576, anonymous=12288, swap=0),\n",
       "  pmmap_grouped(path='/usr/local/anaconda3/lib/python3.7/site-packages/bottleneck/nonreduce.cpython-37m-x86_64-linux-gnu.so', rss=16384, size=2117632, pss=10240, shared_clean=8192, shared_dirty=0, private_clean=0, private_dirty=8192, referenced=16384, anonymous=8192, swap=0),\n",
       "  pmmap_grouped(path='/usr/local/anaconda3/lib/python3.7/site-packages/bottleneck/reduce.cpython-37m-x86_64-linux-gnu.so', rss=24576, size=2207744, pss=15360, shared_clean=12288, shared_dirty=0, private_clean=0, private_dirty=12288, referenced=24576, anonymous=12288, swap=0),\n",
       "  pmmap_grouped(path='/usr/local/anaconda3/lib/python3.7/site-packages/pandas/_libs/hashing.cpython-37m-x86_64-linux-gnu.so', rss=40960, size=2158592, pss=18432, shared_clean=32768, shared_dirty=0, private_clean=0, private_dirty=8192, referenced=40960, anonymous=8192, swap=0),\n",
       "  pmmap_grouped(path='/usr/local/anaconda3/lib/python3.7/site-packages/pandas/_libs/properties.cpython-37m-x86_64-linux-gnu.so', rss=53248, size=2166784, pss=22528, shared_clean=45056, shared_dirty=0, private_clean=0, private_dirty=8192, referenced=53248, anonymous=8192, swap=0),\n",
       "  pmmap_grouped(path='/usr/local/anaconda3/lib/python3.7/site-packages/pandas/_libs/algos.cpython-37m-x86_64-linux-gnu.so', rss=307200, size=3518464, pss=142336, shared_clean=249856, shared_dirty=0, private_clean=8192, private_dirty=49152, referenced=307200, anonymous=49152, swap=0),\n",
       "  pmmap_grouped(path='/usr/local/anaconda3/lib/python3.7/site-packages/pandas/_libs/lib.cpython-37m-x86_64-linux-gnu.so', rss=352256, size=2658304, pss=158720, shared_clean=303104, shared_dirty=0, private_clean=4096, private_dirty=45056, referenced=352256, anonymous=45056, swap=0),\n",
       "  pmmap_grouped(path='/usr/local/anaconda3/lib/python3.7/site-packages/pandas/_libs/missing.cpython-37m-x86_64-linux-gnu.so', rss=65536, size=2191360, pss=29696, shared_clean=53248, shared_dirty=0, private_clean=0, private_dirty=12288, referenced=65536, anonymous=12288, swap=0),\n",
       "  pmmap_grouped(path='/usr/local/anaconda3/lib/python3.7/site-packages/pandas/_libs/hashtable.cpython-37m-x86_64-linux-gnu.so', rss=163840, size=2674688, pss=80896, shared_clean=131072, shared_dirty=0, private_clean=0, private_dirty=32768, referenced=163840, anonymous=32768, swap=0),\n",
       "  pmmap_grouped(path='/usr/local/anaconda3/lib/python3.7/site-packages/pandas/_libs/tslibs/fields.cpython-37m-x86_64-linux-gnu.so', rss=69632, size=2260992, pss=30720, shared_clean=57344, shared_dirty=0, private_clean=0, private_dirty=12288, referenced=69632, anonymous=12288, swap=0),\n",
       "  pmmap_grouped(path='/usr/local/anaconda3/lib/python3.7/site-packages/pandas/_libs/tslibs/timestamps.cpython-37m-x86_64-linux-gnu.so', rss=180224, size=2465792, pss=80896, shared_clean=147456, shared_dirty=0, private_clean=0, private_dirty=32768, referenced=180224, anonymous=32768, swap=0),\n",
       "  pmmap_grouped(path='/usr/local/anaconda3/lib/python3.7/site-packages/pandas/_libs/tslibs/strptime.cpython-37m-x86_64-linux-gnu.so', rss=204800, size=2404352, pss=83968, shared_clean=180224, shared_dirty=0, private_clean=0, private_dirty=24576, referenced=204800, anonymous=24576, swap=0),\n",
       "  pmmap_grouped(path='/usr/local/anaconda3/lib/python3.7/site-packages/pandas/_libs/tslibs/ccalendar.cpython-37m-x86_64-linux-gnu.so', rss=53248, size=2170880, pss=25600, shared_clean=40960, shared_dirty=0, private_clean=0, private_dirty=12288, referenced=53248, anonymous=12288, swap=0),\n",
       "  pmmap_grouped(path='/usr/local/anaconda3/lib/python3.7/site-packages/pandas/_libs/tslibs/parsing.cpython-37m-x86_64-linux-gnu.so', rss=122880, size=2375680, pss=56320, shared_clean=98304, shared_dirty=0, private_clean=0, private_dirty=24576, referenced=122880, anonymous=24576, swap=0),\n",
       "  pmmap_grouped(path='/usr/local/anaconda3/lib/python3.7/site-packages/pandas/_libs/tslibs/timezones.cpython-37m-x86_64-linux-gnu.so', rss=61440, size=2211840, pss=27648, shared_clean=49152, shared_dirty=0, private_clean=0, private_dirty=12288, referenced=61440, anonymous=12288, swap=0),\n",
       "  pmmap_grouped(path='/usr/local/anaconda3/lib/python3.7/site-packages/pandas/_libs/tslibs/timedeltas.cpython-37m-x86_64-linux-gnu.so', rss=196608, size=2469888, pss=83968, shared_clean=167936, shared_dirty=0, private_clean=0, private_dirty=28672, referenced=196608, anonymous=28672, swap=0),\n",
       "  pmmap_grouped(path='/usr/local/anaconda3/lib/python3.7/site-packages/pandas/_libs/tslibs/nattype.cpython-37m-x86_64-linux-gnu.so', rss=147456, size=2277376, pss=62464, shared_clean=126976, shared_dirty=0, private_clean=0, private_dirty=20480, referenced=147456, anonymous=20480, swap=0),\n",
       "  pmmap_grouped(path='/usr/local/anaconda3/lib/python3.7/site-packages/pandas/_libs/tslibs/np_datetime.cpython-37m-x86_64-linux-gnu.so', rss=53248, size=2150400, pss=22528, shared_clean=45056, shared_dirty=0, private_clean=0, private_dirty=8192, referenced=53248, anonymous=8192, swap=0),\n",
       "  pmmap_grouped(path='/usr/local/anaconda3/lib/python3.7/site-packages/pandas/_libs/tslibs/conversion.cpython-37m-x86_64-linux-gnu.so', rss=118784, size=2412544, pss=50176, shared_clean=102400, shared_dirty=0, private_clean=0, private_dirty=16384, referenced=118784, anonymous=16384, swap=0),\n",
       "  pmmap_grouped(path='/usr/local/anaconda3/lib/python3.7/site-packages/pandas/_libs/tslib.cpython-37m-x86_64-linux-gnu.so', rss=86016, size=2330624, pss=38912, shared_clean=69632, shared_dirty=0, private_clean=0, private_dirty=16384, referenced=86016, anonymous=16384, swap=0),\n",
       "  pmmap_grouped(path='/usr/local/anaconda3/lib/libmkl_avx2.so', rss=794624, size=29544448, pss=303104, shared_clean=737280, shared_dirty=0, private_clean=0, private_dirty=57344, referenced=794624, anonymous=57344, swap=0),\n",
       "  pmmap_grouped(path='/usr/local/anaconda3/lib/libmkl_intel_lp64.so', rss=987136, size=7598080, pss=377856, shared_clean=925696, shared_dirty=0, private_clean=4096, private_dirty=57344, referenced=987136, anonymous=57344, swap=0),\n",
       "  pmmap_grouped(path='/usr/local/anaconda3/lib/libmkl_intel_thread.so', rss=2412544, size=16494592, pss=1674240, shared_clean=1130496, shared_dirty=0, private_clean=0, private_dirty=1282048, referenced=2412544, anonymous=1282048, swap=0),\n",
       "  pmmap_grouped(path='/usr/local/anaconda3/lib/libmkl_core.so', rss=942080, size=23719936, pss=373760, shared_clean=856064, shared_dirty=0, private_clean=0, private_dirty=86016, referenced=942080, anonymous=86016, swap=0),\n",
       "  pmmap_grouped(path='/usr/local/anaconda3/lib/python3.7/site-packages/numpy/random/mtrand.cpython-37m-x86_64-linux-gnu.so', rss=311296, size=892928, pss=126976, shared_clean=278528, shared_dirty=0, private_clean=0, private_dirty=32768, referenced=311296, anonymous=32768, swap=0),\n",
       "  pmmap_grouped(path='/usr/local/anaconda3/lib/python3.7/site-packages/scipy/_lib/_ccallback_c.cpython-37m-x86_64-linux-gnu.so', rss=53248, size=69632, pss=30720, shared_clean=45056, shared_dirty=0, private_clean=0, private_dirty=8192, referenced=53248, anonymous=8192, swap=0),\n",
       "  pmmap_grouped(path='/usr/local/anaconda3/lib/python3.7/lib-dynload/mmap.cpython-37m-x86_64-linux-gnu.so', rss=32768, size=36864, pss=14336, shared_clean=24576, shared_dirty=0, private_clean=0, private_dirty=8192, referenced=32768, anonymous=8192, swap=0),\n",
       "  pmmap_grouped(path='/usr/local/anaconda3/lib/python3.7/lib-dynload/_csv.cpython-37m-x86_64-linux-gnu.so', rss=36864, size=45056, pss=18432, shared_clean=24576, shared_dirty=0, private_clean=0, private_dirty=12288, referenced=36864, anonymous=12288, swap=0),\n",
       "  pmmap_grouped(path='/usr/local/anaconda3/lib/python3.7/site-packages/mkl_fft/_pydfti.cpython-37m-x86_64-linux-gnu.so', rss=98304, size=315392, pss=40960, shared_clean=81920, shared_dirty=0, private_clean=0, private_dirty=16384, referenced=98304, anonymous=16384, swap=0),\n",
       "  pmmap_grouped(path='/usr/local/anaconda3/lib/python3.7/site-packages/numpy/fft/fftpack_lite.cpython-37m-x86_64-linux-gnu.so', rss=28672, size=49152, pss=13312, shared_clean=20480, shared_dirty=0, private_clean=0, private_dirty=8192, referenced=28672, anonymous=8192, swap=0),\n",
       "  pmmap_grouped(path='/usr/local/anaconda3/lib/libiomp5.so', rss=487424, size=3088384, pss=240640, shared_clean=446464, shared_dirty=0, private_clean=0, private_dirty=40960, referenced=487424, anonymous=40960, swap=0),\n",
       "  pmmap_grouped(path='/usr/local/anaconda3/lib/python3.7/site-packages/numpy/linalg/_umath_linalg.cpython-37m-x86_64-linux-gnu.so', rss=53248, size=176128, pss=21504, shared_clean=45056, shared_dirty=0, private_clean=0, private_dirty=8192, referenced=53248, anonymous=8192, swap=0),\n",
       "  pmmap_grouped(path='/usr/local/anaconda3/lib/python3.7/site-packages/numpy/core/umath.cpython-37m-x86_64-linux-gnu.so', rss=561152, size=1536000, pss=225280, shared_clean=524288, shared_dirty=0, private_clean=4096, private_dirty=32768, referenced=561152, anonymous=32768, swap=0),\n",
       "  pmmap_grouped(path='/usr/local/anaconda3/lib/libmkl_rt.so', rss=1007616, size=5455872, pss=359424, shared_clean=974848, shared_dirty=0, private_clean=4096, private_dirty=28672, referenced=1007616, anonymous=28672, swap=0),\n",
       "  pmmap_grouped(path='/usr/local/anaconda3/lib/python3.7/site-packages/numpy/core/multiarray.cpython-37m-x86_64-linux-gnu.so', rss=958464, size=1941504, pss=390144, shared_clean=884736, shared_dirty=0, private_clean=4096, private_dirty=69632, referenced=958464, anonymous=69632, swap=0),\n",
       "  pmmap_grouped(path='/usr/local/anaconda3/lib/python3.7/site-packages/sklearn/__check_build/_check_build.cpython-37m-x86_64-linux-gnu.so', rss=24576, size=24576, pss=16384, shared_clean=16384, shared_dirty=0, private_clean=0, private_dirty=8192, referenced=24576, anonymous=8192, swap=0),\n",
       "  pmmap_grouped(path='/usr/local/anaconda3/lib/python3.7/site-packages/numpy/core/_multiarray_tests.cpython-37m-x86_64-linux-gnu.so', rss=57344, size=139264, pss=22528, shared_clean=49152, shared_dirty=0, private_clean=0, private_dirty=8192, referenced=57344, anonymous=8192, swap=0),\n",
       "  pmmap_grouped(path='/usr/local/anaconda3/lib/python3.7/site-packages/numpy/linalg/lapack_lite.cpython-37m-x86_64-linux-gnu.so', rss=28672, size=28672, pss=13312, shared_clean=20480, shared_dirty=0, private_clean=0, private_dirty=8192, referenced=28672, anonymous=8192, swap=0),\n",
       "  pmmap_grouped(path='/usr/local/anaconda3/lib/python3.7/lib-dynload/_decimal.cpython-37m-x86_64-linux-gnu.so', rss=151552, size=327680, pss=45056, shared_clean=131072, shared_dirty=0, private_clean=0, private_dirty=20480, referenced=151552, anonymous=20480, swap=0),\n",
       "  pmmap_grouped(path='/usr/local/anaconda3/lib/libtinfow.so.6.1', rss=94208, size=2338816, pss=44032, shared_clean=73728, shared_dirty=0, private_clean=0, private_dirty=20480, referenced=94208, anonymous=20480, swap=0),\n",
       "  pmmap_grouped(path='/usr/local/anaconda3/lib/libncursesw.so.6.1', rss=53248, size=2330624, pss=22528, shared_clean=45056, shared_dirty=0, private_clean=0, private_dirty=8192, referenced=53248, anonymous=8192, swap=0),\n",
       "  pmmap_grouped(path='/usr/local/anaconda3/lib/python3.7/lib-dynload/_curses.cpython-37m-x86_64-linux-gnu.so', rss=57344, size=90112, pss=24576, shared_clean=45056, shared_dirty=0, private_clean=0, private_dirty=12288, referenced=57344, anonymous=12288, swap=0),\n",
       "  pmmap_grouped(path='/usr/local/anaconda3/lib/python3.7/site-packages/zmq/backend/cython/_device.cpython-37m-x86_64-linux-gnu.so', rss=49152, size=2150400, pss=21504, shared_clean=40960, shared_dirty=0, private_clean=0, private_dirty=8192, referenced=49152, anonymous=8192, swap=0),\n",
       "  pmmap_grouped(path='/usr/local/anaconda3/lib/python3.7/site-packages/zmq/backend/cython/_version.cpython-37m-x86_64-linux-gnu.so', rss=28672, size=2121728, pss=14336, shared_clean=20480, shared_dirty=0, private_clean=0, private_dirty=8192, referenced=28672, anonymous=8192, swap=0),\n",
       "  pmmap_grouped(path='/usr/local/anaconda3/lib/python3.7/site-packages/zmq/backend/cython/_poll.cpython-37m-x86_64-linux-gnu.so', rss=65536, size=2170880, pss=23552, shared_clean=57344, shared_dirty=0, private_clean=0, private_dirty=8192, referenced=65536, anonymous=8192, swap=0),\n",
       "  pmmap_grouped(path='/usr/local/anaconda3/lib/python3.7/site-packages/zmq/backend/cython/utils.cpython-37m-x86_64-linux-gnu.so', rss=36864, size=2138112, pss=17408, shared_clean=28672, shared_dirty=0, private_clean=0, private_dirty=8192, referenced=36864, anonymous=8192, swap=0),\n",
       "  pmmap_grouped(path='/usr/local/anaconda3/lib/python3.7/site-packages/zmq/backend/cython/socket.cpython-37m-x86_64-linux-gnu.so', rss=122880, size=2244608, pss=47104, shared_clean=102400, shared_dirty=0, private_clean=0, private_dirty=20480, referenced=122880, anonymous=20480, swap=0),\n",
       "  pmmap_grouped(path='/usr/local/anaconda3/lib/python3.7/site-packages/zmq/backend/cython/context.cpython-37m-x86_64-linux-gnu.so', rss=69632, size=2174976, pss=29696, shared_clean=57344, shared_dirty=0, private_clean=0, private_dirty=12288, referenced=69632, anonymous=12288, swap=0),\n",
       "  pmmap_grouped(path='/usr/local/anaconda3/lib/python3.7/site-packages/zmq/backend/cython/message.cpython-37m-x86_64-linux-gnu.so', rss=81920, size=2195456, pss=34816, shared_clean=69632, shared_dirty=0, private_clean=0, private_dirty=12288, referenced=81920, anonymous=12288, swap=0),\n",
       "  pmmap_grouped(path='/usr/local/anaconda3/lib/libgcc_s.so.1', rss=53248, size=86016, pss=23552, shared_clean=45056, shared_dirty=0, private_clean=0, private_dirty=8192, referenced=53248, anonymous=8192, swap=0),\n",
       "  pmmap_grouped(path='/usr/local/anaconda3/lib/libstdc++.so.6.0.25', rss=868352, size=1302528, pss=256000, shared_clean=806912, shared_dirty=0, private_clean=4096, private_dirty=57344, referenced=868352, anonymous=57344, swap=0),\n",
       "  pmmap_grouped(path='/usr/local/anaconda3/lib/libsodium.so.23.1.0', rss=98304, size=2441216, pss=37888, shared_clean=90112, shared_dirty=0, private_clean=0, private_dirty=8192, referenced=98304, anonymous=8192, swap=0),\n",
       "  pmmap_grouped(path='/usr/local/anaconda3/lib/libzmq.so.5.1.5', rss=421888, size=2691072, pss=126976, shared_clean=389120, shared_dirty=0, private_clean=0, private_dirty=32768, referenced=421888, anonymous=32768, swap=0),\n",
       "  pmmap_grouped(path='/usr/local/anaconda3/lib/python3.7/site-packages/zmq/backend/cython/error.cpython-37m-x86_64-linux-gnu.so', rss=32768, size=2125824, pss=14336, shared_clean=24576, shared_dirty=0, private_clean=0, private_dirty=8192, referenced=32768, anonymous=8192, swap=0),\n",
       "  pmmap_grouped(path='/usr/local/anaconda3/lib/python3.7/site-packages/zmq/backend/cython/constants.cpython-37m-x86_64-linux-gnu.so', rss=57344, size=2150400, pss=26624, shared_clean=45056, shared_dirty=0, private_clean=0, private_dirty=12288, referenced=57344, anonymous=12288, swap=0),\n",
       "  pmmap_grouped(path='/usr/local/anaconda3/lib/python3.7/site-packages/scipy/special/_ufuncs_cxx.cpython-37m-x86_64-linux-gnu.so', rss=45056, size=110592, pss=26624, shared_clean=36864, shared_dirty=0, private_clean=0, private_dirty=8192, referenced=45056, anonymous=8192, swap=0),\n",
       "  pmmap_grouped(path='/usr/local/anaconda3/lib/python3.7/site-packages/scipy/linalg/_flinalg.cpython-37m-x86_64-linux-gnu.so', rss=49152, size=69632, pss=32768, shared_clean=32768, shared_dirty=0, private_clean=0, private_dirty=16384, referenced=49152, anonymous=16384, swap=0),\n",
       "  pmmap_grouped(path='/usr/local/anaconda3/lib/python3.7/site-packages/scipy/sparse/linalg/isolve/_iterative.cpython-37m-x86_64-linux-gnu.so', rss=73728, size=241664, pss=49152, shared_clean=49152, shared_dirty=0, private_clean=0, private_dirty=24576, referenced=73728, anonymous=24576, swap=0),\n",
       "  pmmap_grouped(path='/usr/local/anaconda3/lib/python3.7/site-packages/sklearn/utils/murmurhash.cpython-37m-x86_64-linux-gnu.so', rss=57344, size=98304, pss=32768, shared_clean=49152, shared_dirty=0, private_clean=0, private_dirty=8192, referenced=57344, anonymous=8192, swap=0),\n",
       "  pmmap_grouped(path='/usr/local/anaconda3/lib/python3.7/site-packages/scipy/sparse/csgraph/_reordering.cpython-37m-x86_64-linux-gnu.so', rss=110592, size=311296, pss=67584, shared_clean=86016, shared_dirty=0, private_clean=0, private_dirty=24576, referenced=110592, anonymous=24576, swap=0),\n",
       "  pmmap_grouped(path='/usr/local/anaconda3/lib/python3.7/site-packages/scipy/sparse/csgraph/_min_spanning_tree.cpython-37m-x86_64-linux-gnu.so', rss=86016, size=188416, pss=51200, shared_clean=69632, shared_dirty=0, private_clean=0, private_dirty=16384, referenced=86016, anonymous=16384, swap=0),\n",
       "  pmmap_grouped(path='/usr/local/anaconda3/lib/libffi.so.6.0.4', rss=36864, size=2134016, pss=12288, shared_clean=32768, shared_dirty=0, private_clean=0, private_dirty=4096, referenced=36864, anonymous=4096, swap=0),\n",
       "  pmmap_grouped(path='/usr/local/anaconda3/lib/python3.7/lib-dynload/_ctypes.cpython-37m-x86_64-linux-gnu.so', rss=126976, size=151552, pss=48128, shared_clean=106496, shared_dirty=0, private_clean=0, private_dirty=20480, referenced=126976, anonymous=20480, swap=0),\n",
       "  pmmap_grouped(path='/usr/local/anaconda3/lib/python3.7/lib-dynload/unicodedata.cpython-37m-x86_64-linux-gnu.so', rss=40960, size=1081344, pss=19456, shared_clean=28672, shared_dirty=0, private_clean=0, private_dirty=12288, referenced=40960, anonymous=12288, swap=0),\n",
       "  pmmap_grouped(path='/usr/local/anaconda3/lib/python3.7/lib-dynload/array.cpython-37m-x86_64-linux-gnu.so', rss=65536, size=77824, pss=31744, shared_clean=49152, shared_dirty=0, private_clean=0, private_dirty=16384, referenced=65536, anonymous=16384, swap=0),\n",
       "  pmmap_grouped(path='/usr/local/anaconda3/lib/python3.7/lib-dynload/_queue.cpython-37m-x86_64-linux-gnu.so', rss=24576, size=24576, pss=11264, shared_clean=16384, shared_dirty=0, private_clean=0, private_dirty=8192, referenced=24576, anonymous=8192, swap=0),\n",
       "  pmmap_grouped(path='/usr/local/anaconda3/lib/libsqlite3.so.0.8.6', rss=700416, size=1130496, pss=159744, shared_clean=675840, shared_dirty=0, private_clean=0, private_dirty=24576, referenced=700416, anonymous=24576, swap=0),\n",
       "  pmmap_grouped(path='/usr/local/anaconda3/lib/python3.7/lib-dynload/_sqlite3.cpython-37m-x86_64-linux-gnu.so', rss=94208, size=106496, pss=29696, shared_clean=81920, shared_dirty=0, private_clean=0, private_dirty=12288, referenced=94208, anonymous=12288, swap=0),\n",
       "  pmmap_grouped(path='/usr/local/anaconda3/lib/python3.7/lib-dynload/_pickle.cpython-37m-x86_64-linux-gnu.so', rss=86016, size=131072, pss=39936, shared_clean=69632, shared_dirty=0, private_clean=0, private_dirty=16384, referenced=86016, anonymous=16384, swap=0),\n",
       "  pmmap_grouped(path='/usr/local/anaconda3/lib/python3.7/lib-dynload/_asyncio.cpython-37m-x86_64-linux-gnu.so', rss=69632, size=90112, pss=30720, shared_clean=49152, shared_dirty=0, private_clean=0, private_dirty=20480, referenced=69632, anonymous=20480, swap=0),\n",
       "  pmmap_grouped(path='/usr/local/anaconda3/lib/python3.7/lib-dynload/_contextvars.cpython-37m-x86_64-linux-gnu.so', rss=20480, size=20480, pss=10240, shared_clean=12288, shared_dirty=0, private_clean=0, private_dirty=8192, referenced=20480, anonymous=8192, swap=0),\n",
       "  pmmap_grouped(path='/usr/local/anaconda3/lib/libssl.so.1.0.0', rss=192512, size=2592768, pss=81920, shared_clean=147456, shared_dirty=0, private_clean=0, private_dirty=45056, referenced=192512, anonymous=45056, swap=0),\n",
       "  pmmap_grouped(path='/usr/local/anaconda3/lib/python3.7/lib-dynload/_ssl.cpython-37m-x86_64-linux-gnu.so', rss=106496, size=139264, pss=44032, shared_clean=81920, shared_dirty=0, private_clean=0, private_dirty=24576, referenced=106496, anonymous=24576, swap=0),\n",
       "  pmmap_grouped(path='/usr/local/anaconda3/lib/python3.7/lib-dynload/_socket.cpython-37m-x86_64-linux-gnu.so', rss=69632, size=122880, pss=23552, shared_clean=57344, shared_dirty=0, private_clean=0, private_dirty=12288, referenced=69632, anonymous=12288, swap=0),\n",
       "  pmmap_grouped(path='/usr/local/anaconda3/lib/python3.7/lib-dynload/_datetime.cpython-37m-x86_64-linux-gnu.so', rss=90112, size=122880, pss=25600, shared_clean=77824, shared_dirty=0, private_clean=0, private_dirty=12288, referenced=90112, anonymous=12288, swap=0),\n",
       "  pmmap_grouped(path='/usr/local/anaconda3/lib/python3.7/site-packages/numpy/_mklinit.cpython-37m-x86_64-linux-gnu.so', rss=20480, size=20480, pss=11264, shared_clean=12288, shared_dirty=0, private_clean=0, private_dirty=8192, referenced=20480, anonymous=8192, swap=0),\n",
       "  pmmap_grouped(path='/usr/local/anaconda3/lib/python3.7/site-packages/tornado/speedups.cpython-37m-x86_64-linux-gnu.so', rss=20480, size=20480, pss=9216, shared_clean=12288, shared_dirty=0, private_clean=0, private_dirty=8192, referenced=20480, anonymous=8192, swap=0),\n",
       "  pmmap_grouped(path='/usr/local/anaconda3/lib/python3.7/lib-dynload/_lsprof.cpython-37m-x86_64-linux-gnu.so', rss=28672, size=28672, pss=13312, shared_clean=20480, shared_dirty=0, private_clean=0, private_dirty=8192, referenced=28672, anonymous=8192, swap=0),\n",
       "  pmmap_grouped(path='/usr/local/anaconda3/lib/python3.7/lib-dynload/resource.cpython-37m-x86_64-linux-gnu.so', rss=24576, size=24576, pss=12288, shared_clean=16384, shared_dirty=0, private_clean=0, private_dirty=8192, referenced=24576, anonymous=8192, swap=0),\n",
       "  pmmap_grouped(path='/usr/local/anaconda3/lib/python3.7/lib-dynload/fcntl.cpython-37m-x86_64-linux-gnu.so', rss=24576, size=24576, pss=10240, shared_clean=16384, shared_dirty=0, private_clean=0, private_dirty=8192, referenced=24576, anonymous=8192, swap=0),\n",
       "  pmmap_grouped(path='/usr/local/anaconda3/lib/python3.7/lib-dynload/termios.cpython-37m-x86_64-linux-gnu.so', rss=32768, size=32768, pss=17408, shared_clean=20480, shared_dirty=0, private_clean=0, private_dirty=12288, referenced=32768, anonymous=12288, swap=0),\n",
       "  pmmap_grouped(path='/usr/local/anaconda3/lib/python3.7/lib-dynload/_random.cpython-37m-x86_64-linux-gnu.so', rss=28672, size=28672, pss=11264, shared_clean=20480, shared_dirty=0, private_clean=0, private_dirty=8192, referenced=28672, anonymous=8192, swap=0),\n",
       "  pmmap_grouped(path='/usr/local/anaconda3/lib/python3.7/lib-dynload/_bisect.cpython-37m-x86_64-linux-gnu.so', rss=20480, size=20480, pss=11264, shared_clean=12288, shared_dirty=0, private_clean=0, private_dirty=8192, referenced=20480, anonymous=8192, swap=0),\n",
       "  pmmap_grouped(path='/usr/local/anaconda3/lib/python3.7/lib-dynload/_sha3.cpython-37m-x86_64-linux-gnu.so', rss=45056, size=110592, pss=20480, shared_clean=32768, shared_dirty=0, private_clean=0, private_dirty=12288, referenced=45056, anonymous=12288, swap=0),\n",
       "  pmmap_grouped(path='/usr/local/anaconda3/lib/python3.7/lib-dynload/_blake2.cpython-37m-x86_64-linux-gnu.so', rss=28672, size=57344, pss=13312, shared_clean=20480, shared_dirty=0, private_clean=0, private_dirty=8192, referenced=28672, anonymous=8192, swap=0),\n",
       "  pmmap_grouped(path='/usr/local/anaconda3/lib/libcrypto.so.1.0.0', rss=888832, size=4513792, pss=333824, shared_clean=729088, shared_dirty=0, private_clean=0, private_dirty=159744, referenced=888832, anonymous=159744, swap=0),\n",
       "  pmmap_grouped(path='/usr/local/anaconda3/lib/python3.7/lib-dynload/_hashlib.cpython-37m-x86_64-linux-gnu.so', rss=32768, size=36864, pss=11264, shared_clean=24576, shared_dirty=0, private_clean=0, private_dirty=8192, referenced=32768, anonymous=8192, swap=0),\n",
       "  pmmap_grouped(path='/usr/local/anaconda3/lib/python3.7/lib-dynload/_struct.cpython-37m-x86_64-linux-gnu.so', rss=49152, size=57344, pss=18432, shared_clean=36864, shared_dirty=0, private_clean=0, private_dirty=12288, referenced=49152, anonymous=12288, swap=0),\n",
       "  pmmap_grouped(path='/usr/local/anaconda3/lib/python3.7/lib-dynload/_opcode.cpython-37m-x86_64-linux-gnu.so', rss=20480, size=20480, pss=11264, shared_clean=12288, shared_dirty=0, private_clean=0, private_dirty=8192, referenced=20480, anonymous=8192, swap=0),\n",
       "  pmmap_grouped(path='/usr/local/anaconda3/lib/liblzma.so.5.2.4', rss=24576, size=2252800, pss=12288, shared_clean=16384, shared_dirty=0, private_clean=0, private_dirty=8192, referenced=24576, anonymous=8192, swap=0),\n",
       "  pmmap_grouped(path='/usr/local/anaconda3/lib/libz.so.1.2.11', rss=28672, size=2195456, pss=10240, shared_clean=24576, shared_dirty=0, private_clean=0, private_dirty=4096, referenced=28672, anonymous=4096, swap=0),\n",
       "  pmmap_grouped(path='/usr/local/anaconda3/lib/python3.7/lib-dynload/binascii.cpython-37m-x86_64-linux-gnu.so', rss=32768, size=36864, pss=12288, shared_clean=24576, shared_dirty=0, private_clean=0, private_dirty=8192, referenced=32768, anonymous=8192, swap=0),\n",
       "  pmmap_grouped(path='/usr/lib/locale/locale-archive', rss=53248, size=106074112, pss=5120, shared_clean=53248, shared_dirty=0, private_clean=0, private_dirty=0, referenced=53248, anonymous=0, swap=0),\n",
       "  pmmap_grouped(path='/usr/lib64/libm-2.17.so', rss=241664, size=3153920, pss=57344, shared_clean=233472, shared_dirty=0, private_clean=0, private_dirty=8192, referenced=241664, anonymous=8192, swap=0),\n",
       "  pmmap_grouped(path='/usr/lib64/librt-2.17.so', rss=24576, size=2129920, pss=10240, shared_clean=16384, shared_dirty=0, private_clean=0, private_dirty=8192, referenced=24576, anonymous=8192, swap=0),\n",
       "  pmmap_grouped(path='/usr/lib64/libutil-2.17.so', rss=12288, size=2109440, pss=8192, shared_clean=4096, shared_dirty=0, private_clean=0, private_dirty=8192, referenced=12288, anonymous=8192, swap=0),\n",
       "  pmmap_grouped(path='/usr/lib64/libdl-2.17.so', rss=16384, size=2113536, pss=8192, shared_clean=8192, shared_dirty=0, private_clean=0, private_dirty=8192, referenced=16384, anonymous=8192, swap=0),\n",
       "  pmmap_grouped(path='/usr/lib64/libc-2.17.so', rss=884736, size=3964928, pss=105472, shared_clean=860160, shared_dirty=0, private_clean=0, private_dirty=24576, referenced=884736, anonymous=24576, swap=0),\n",
       "  pmmap_grouped(path='/usr/lib64/libpthread-2.17.so', rss=81920, size=2195456, pss=13312, shared_clean=73728, shared_dirty=0, private_clean=0, private_dirty=8192, referenced=81920, anonymous=8192, swap=0),\n",
       "  pmmap_grouped(path='/usr/lib64/ld-2.17.so', rss=131072, size=147456, pss=19456, shared_clean=122880, shared_dirty=0, private_clean=0, private_dirty=8192, referenced=131072, anonymous=8192, swap=0),\n",
       "  pmmap_grouped(path='/usr/local/anaconda3/lib/python3.7/lib-dynload/grp.cpython-37m-x86_64-linux-gnu.so', rss=24576, size=24576, pss=12288, shared_clean=16384, shared_dirty=0, private_clean=0, private_dirty=8192, referenced=24576, anonymous=8192, swap=0),\n",
       "  pmmap_grouped(path='/usr/local/anaconda3/lib/python3.7/lib-dynload/_lzma.cpython-37m-x86_64-linux-gnu.so', rss=45056, size=49152, pss=20480, shared_clean=32768, shared_dirty=0, private_clean=0, private_dirty=12288, referenced=45056, anonymous=12288, swap=0),\n",
       "  pmmap_grouped(path='/usr/local/anaconda3/lib/python3.7/lib-dynload/math.cpython-37m-x86_64-linux-gnu.so', rss=49152, size=57344, pss=19456, shared_clean=36864, shared_dirty=0, private_clean=0, private_dirty=12288, referenced=49152, anonymous=12288, swap=0),\n",
       "  pmmap_grouped(path='/usr/local/anaconda3/lib/python3.7/lib-dynload/select.cpython-37m-x86_64-linux-gnu.so', rss=36864, size=40960, pss=16384, shared_clean=24576, shared_dirty=0, private_clean=0, private_dirty=12288, referenced=36864, anonymous=12288, swap=0),\n",
       "  pmmap_grouped(path='/usr/local/anaconda3/lib/python3.7/lib-dynload/_json.cpython-37m-x86_64-linux-gnu.so', rss=77824, size=81920, pss=18432, shared_clean=69632, shared_dirty=0, private_clean=0, private_dirty=8192, referenced=77824, anonymous=8192, swap=0),\n",
       "  pmmap_grouped(path='/usr/local/anaconda3/lib/python3.7/lib-dynload/_bz2.cpython-37m-x86_64-linux-gnu.so', rss=40960, size=98304, pss=19456, shared_clean=28672, shared_dirty=0, private_clean=0, private_dirty=12288, referenced=40960, anonymous=12288, swap=0),\n",
       "  pmmap_grouped(path='/usr/local/anaconda3/lib/python3.7/lib-dynload/zlib.cpython-37m-x86_64-linux-gnu.so', rss=32768, size=45056, pss=17408, shared_clean=20480, shared_dirty=0, private_clean=0, private_dirty=12288, referenced=32768, anonymous=12288, swap=0),\n",
       "  pmmap_grouped(path='/usr/local/anaconda3/lib/python3.7/lib-dynload/_posixsubprocess.cpython-37m-x86_64-linux-gnu.so', rss=28672, size=28672, pss=11264, shared_clean=20480, shared_dirty=0, private_clean=0, private_dirty=8192, referenced=28672, anonymous=8192, swap=0),\n",
       "  pmmap_grouped(path='/usr/local/anaconda3/lib/python3.7/lib-dynload/_heapq.cpython-37m-x86_64-linux-gnu.so', rss=28672, size=28672, pss=15360, shared_clean=16384, shared_dirty=0, private_clean=0, private_dirty=12288, referenced=28672, anonymous=12288, swap=0),\n",
       "  pmmap_grouped(path='/usr/lib64/gconv/gconv-modules.cache', rss=24576, size=28672, pss=4096, shared_clean=24576, shared_dirty=0, private_clean=0, private_dirty=0, referenced=24576, anonymous=0, swap=0),\n",
       "  pmmap_grouped(path='[stack]', rss=98304, size=135168, pss=98304, shared_clean=0, shared_dirty=0, private_clean=0, private_dirty=98304, referenced=98304, anonymous=98304, swap=0),\n",
       "  pmmap_grouped(path='[vdso]', rss=4096, size=8192, pss=0, shared_clean=4096, shared_dirty=0, private_clean=0, private_dirty=0, referenced=4096, anonymous=0, swap=0),\n",
       "  pmmap_grouped(path='[vsyscall]', rss=0, size=4096, pss=0, shared_clean=0, shared_dirty=0, private_clean=0, private_dirty=0, referenced=0, anonymous=0, swap=0)],\n",
       " 'terminal': None,\n",
       " 'ionice': pionice(ioclass=<IOPriority.IOPRIO_CLASS_NONE: 0>, value=0),\n",
       " 'cpu_num': 4,\n",
       " 'uids': puids(real=1001, effective=1001, saved=1001),\n",
       " 'pid': 26930,\n",
       " 'ppid': 5235,\n",
       " 'num_ctx_switches': pctxsw(voluntary=1664, involuntary=7161),\n",
       " 'gids': pgids(real=1001, effective=1001, saved=1001)}"
      ]
     },
     "execution_count": 61,
     "metadata": {},
     "output_type": "execute_result"
    }
   ],
   "source": [
    "psutil.Process(26930).as_dict()"
   ]
  }
 ],
 "metadata": {
  "kernelspec": {
   "display_name": "Python 3.8",
   "language": "python",
   "name": "py3.8"
  },
  "language_info": {
   "codemirror_mode": {
    "name": "ipython",
    "version": 3
   },
   "file_extension": ".py",
   "mimetype": "text/x-python",
   "name": "python",
   "nbconvert_exporter": "python",
   "pygments_lexer": "ipython3",
   "version": "3.8.2"
  }
 },
 "nbformat": 4,
 "nbformat_minor": 2
}
